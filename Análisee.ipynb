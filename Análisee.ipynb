{
 "cells": [
  {
   "cell_type": "markdown",
   "id": "496e4ea3",
   "metadata": {},
   "source": [
    "A base de dados, proveniente do portal da transparência ( http://www.ssp.sp.gov.br/transparenciassp/Consulta2022.aspx ), oferece informações para entender a dinâmica dos roubos de veículos na cidade. O conjunto de dados referente ao mês de fevereiro de 2023."
   ]
  },
  {
   "cell_type": "markdown",
   "id": "8d2010e7",
   "metadata": {},
   "source": [
    "#### Importação bibliotecas e dados"
   ]
  },
  {
   "cell_type": "code",
   "execution_count": 65,
   "id": "0bfa0883",
   "metadata": {},
   "outputs": [],
   "source": [
    "import pandas as pd\n",
    "pd.set_option('display.max_columns', None)\n",
    "\n",
    "import matplotlib.pyplot as plt\n",
    "import seaborn as sns\n",
    "import plotly.express as px\n",
    "import warnings\n",
    "warnings.filterwarnings(\"ignore\")\n"
   ]
  },
  {
   "cell_type": "code",
   "execution_count": 66,
   "id": "857f0ae8",
   "metadata": {},
   "outputs": [
    {
     "data": {
      "text/html": [
       "<div>\n",
       "<style scoped>\n",
       "    .dataframe tbody tr th:only-of-type {\n",
       "        vertical-align: middle;\n",
       "    }\n",
       "\n",
       "    .dataframe tbody tr th {\n",
       "        vertical-align: top;\n",
       "    }\n",
       "\n",
       "    .dataframe thead th {\n",
       "        text-align: right;\n",
       "    }\n",
       "</style>\n",
       "<table border=\"1\" class=\"dataframe\">\n",
       "  <thead>\n",
       "    <tr style=\"text-align: right;\">\n",
       "      <th></th>\n",
       "      <th>ANO_BO</th>\n",
       "      <th>NUM_BO</th>\n",
       "      <th>NUMERO_BOLETIM</th>\n",
       "      <th>BO_INICIADO</th>\n",
       "      <th>BO_EMITIDO</th>\n",
       "      <th>DATAOCORRENCIA</th>\n",
       "      <th>HORAOCORRENCIA</th>\n",
       "      <th>PERIDOOCORRENCIA</th>\n",
       "      <th>DATACOMUNICACAO</th>\n",
       "      <th>DATAELABORACAO</th>\n",
       "      <th>BO_AUTORIA</th>\n",
       "      <th>FLAGRANTE</th>\n",
       "      <th>NUMERO_BOLETIM_PRINCIPAL</th>\n",
       "      <th>LOGRADOURO</th>\n",
       "      <th>NUMERO</th>\n",
       "      <th>BAIRRO</th>\n",
       "      <th>CIDADE</th>\n",
       "      <th>UF</th>\n",
       "      <th>LATITUDE</th>\n",
       "      <th>LONGITUDE</th>\n",
       "      <th>DESCRICAOLOCAL</th>\n",
       "      <th>EXAME</th>\n",
       "      <th>SOLUCAO</th>\n",
       "      <th>DELEGACIA_NOME</th>\n",
       "      <th>DELEGACIA_CIRCUNSCRICAO</th>\n",
       "      <th>ESPECIE</th>\n",
       "      <th>RUBRICA</th>\n",
       "      <th>DESDOBRAMENTO</th>\n",
       "      <th>STATUS</th>\n",
       "      <th>TIPOPESSOA</th>\n",
       "      <th>VITIMAFATAL</th>\n",
       "      <th>NATURALIDADE</th>\n",
       "      <th>NACIONALIDADE</th>\n",
       "      <th>SEXO</th>\n",
       "      <th>DATANASCIMENTO</th>\n",
       "      <th>IDADE</th>\n",
       "      <th>ESTADOCIVIL</th>\n",
       "      <th>PROFISSAO</th>\n",
       "      <th>GRAUINSTRUCAO</th>\n",
       "      <th>CORCUTIS</th>\n",
       "      <th>NATUREZAVINCULADA</th>\n",
       "      <th>TIPOVINCULO</th>\n",
       "      <th>RELACIONAMENTO</th>\n",
       "      <th>PARENTESCO</th>\n",
       "      <th>PLACA_VEICULO</th>\n",
       "      <th>UF_VEICULO</th>\n",
       "      <th>CIDADE_VEICULO</th>\n",
       "      <th>DESCR_COR_VEICULO</th>\n",
       "      <th>DESCR_MARCA_VEICULO</th>\n",
       "      <th>ANO_FABRICACAO</th>\n",
       "      <th>ANO_MODELO</th>\n",
       "      <th>DESCR_TIPO_VEICULO</th>\n",
       "      <th>QUANT_CELULAR</th>\n",
       "      <th>MARCA_CELULAR</th>\n",
       "    </tr>\n",
       "  </thead>\n",
       "  <tbody>\n",
       "    <tr>\n",
       "      <th>0</th>\n",
       "      <td>2023</td>\n",
       "      <td>298</td>\n",
       "      <td>298/2023</td>\n",
       "      <td>01/02/2023 00:00</td>\n",
       "      <td>01/02/2023 00:00</td>\n",
       "      <td>31/01/2023</td>\n",
       "      <td>20:30</td>\n",
       "      <td>A NOITE</td>\n",
       "      <td>31/01/2023</td>\n",
       "      <td>01/02/2023 00:00</td>\n",
       "      <td>Desconhecida</td>\n",
       "      <td>Não</td>\n",
       "      <td>NaN</td>\n",
       "      <td>NaN</td>\n",
       "      <td>0.0</td>\n",
       "      <td>Jardim Residencial Ravagnani</td>\n",
       "      <td>SUMARE</td>\n",
       "      <td>SP</td>\n",
       "      <td>NaN</td>\n",
       "      <td>NaN</td>\n",
       "      <td>Residência</td>\n",
       "      <td>NaN</td>\n",
       "      <td>ENCAMINHAMENTO DP ÁREA DO FATO</td>\n",
       "      <td>DEL.POL.PLANTÃO SUMARE</td>\n",
       "      <td>01º D.P. SUMARE</td>\n",
       "      <td>Título II - Patrimônio (arts. 155 a 183)</td>\n",
       "      <td>Roubo (art. 157) - VEICULO</td>\n",
       "      <td>NaN</td>\n",
       "      <td>Consumado</td>\n",
       "      <td>NaN</td>\n",
       "      <td>NaN</td>\n",
       "      <td>NaN</td>\n",
       "      <td>NaN</td>\n",
       "      <td>NaN</td>\n",
       "      <td>NaN</td>\n",
       "      <td>NaN</td>\n",
       "      <td>NaN</td>\n",
       "      <td>NaN</td>\n",
       "      <td>NaN</td>\n",
       "      <td>NaN</td>\n",
       "      <td>NaN</td>\n",
       "      <td>NaN</td>\n",
       "      <td>NaN</td>\n",
       "      <td>NaN</td>\n",
       "      <td>ENZ6E37</td>\n",
       "      <td>SP</td>\n",
       "      <td>SUMARE</td>\n",
       "      <td>Prata</td>\n",
       "      <td>FORD/KA SE 1.0 HA C</td>\n",
       "      <td>2020.0</td>\n",
       "      <td>2020.0</td>\n",
       "      <td>AUTOMOVEL</td>\n",
       "      <td>NaN</td>\n",
       "      <td>NaN</td>\n",
       "    </tr>\n",
       "    <tr>\n",
       "      <th>1</th>\n",
       "      <td>2023</td>\n",
       "      <td>170256</td>\n",
       "      <td>170256/2023</td>\n",
       "      <td>01/02/2023 00:06</td>\n",
       "      <td>01/02/2023 00:06</td>\n",
       "      <td>31/01/2023</td>\n",
       "      <td>21:20</td>\n",
       "      <td>A NOITE</td>\n",
       "      <td>31/01/2023</td>\n",
       "      <td>01/02/2023 00:06</td>\n",
       "      <td>Desconhecida</td>\n",
       "      <td>Não</td>\n",
       "      <td>NaN</td>\n",
       "      <td>AVENIDA BRASIL</td>\n",
       "      <td>403.0</td>\n",
       "      <td>PARQUE DAS NAÇÕES</td>\n",
       "      <td>S.ANDRE</td>\n",
       "      <td>SP</td>\n",
       "      <td>-23,6391693</td>\n",
       "      <td>-46,52067314</td>\n",
       "      <td>Via pública</td>\n",
       "      <td>NaN</td>\n",
       "      <td>BO PARA INVESTIGAÇÃO</td>\n",
       "      <td>DELEGACIA ELETRONICA</td>\n",
       "      <td>02º D.P. SANTO ANDRÉ</td>\n",
       "      <td>Título II - Patrimônio (arts. 155 a 183)</td>\n",
       "      <td>Roubo (art. 157) - VEICULO</td>\n",
       "      <td>NaN</td>\n",
       "      <td>Consumado</td>\n",
       "      <td>NaN</td>\n",
       "      <td>NaN</td>\n",
       "      <td>NaN</td>\n",
       "      <td>NaN</td>\n",
       "      <td>NaN</td>\n",
       "      <td>NaN</td>\n",
       "      <td>NaN</td>\n",
       "      <td>NaN</td>\n",
       "      <td>NaN</td>\n",
       "      <td>NaN</td>\n",
       "      <td>NaN</td>\n",
       "      <td>NaN</td>\n",
       "      <td>NaN</td>\n",
       "      <td>NaN</td>\n",
       "      <td>NaN</td>\n",
       "      <td>ELO9643</td>\n",
       "      <td>SP</td>\n",
       "      <td>S.ANDRE</td>\n",
       "      <td>Branco</td>\n",
       "      <td>VW/POLO MF</td>\n",
       "      <td>2018.0</td>\n",
       "      <td>NaN</td>\n",
       "      <td>AUTOMOVEL</td>\n",
       "      <td>NaN</td>\n",
       "      <td>NaN</td>\n",
       "    </tr>\n",
       "    <tr>\n",
       "      <th>2</th>\n",
       "      <td>2023</td>\n",
       "      <td>131</td>\n",
       "      <td>131/2023</td>\n",
       "      <td>01/02/2023 00:29</td>\n",
       "      <td>01/02/2023 00:29</td>\n",
       "      <td>31/01/2023</td>\n",
       "      <td>19:20</td>\n",
       "      <td>A NOITE</td>\n",
       "      <td>01/02/2023</td>\n",
       "      <td>01/02/2023 00:29</td>\n",
       "      <td>Desconhecida</td>\n",
       "      <td>Não</td>\n",
       "      <td>NaN</td>\n",
       "      <td>Rua Bernardino de Pinho Gomes</td>\n",
       "      <td>99.0</td>\n",
       "      <td>Jardim Sao Francisco</td>\n",
       "      <td>CUBATAO</td>\n",
       "      <td>SP</td>\n",
       "      <td>-23,8873564</td>\n",
       "      <td>-46,4180081</td>\n",
       "      <td>Via pública</td>\n",
       "      <td>NaN</td>\n",
       "      <td>ENCAMINHAMENTO DP ÁREA DO FATO</td>\n",
       "      <td>DEL.POL.CUBATÃO</td>\n",
       "      <td>DEL.POL.CUBATÃO</td>\n",
       "      <td>Título II - Patrimônio (arts. 155 a 183)</td>\n",
       "      <td>Roubo (art. 157) - VEICULO</td>\n",
       "      <td>NaN</td>\n",
       "      <td>Consumado</td>\n",
       "      <td>NaN</td>\n",
       "      <td>NaN</td>\n",
       "      <td>NaN</td>\n",
       "      <td>NaN</td>\n",
       "      <td>NaN</td>\n",
       "      <td>NaN</td>\n",
       "      <td>NaN</td>\n",
       "      <td>NaN</td>\n",
       "      <td>NaN</td>\n",
       "      <td>NaN</td>\n",
       "      <td>NaN</td>\n",
       "      <td>NaN</td>\n",
       "      <td>NaN</td>\n",
       "      <td>NaN</td>\n",
       "      <td>NaN</td>\n",
       "      <td>RML3J64</td>\n",
       "      <td>MG</td>\n",
       "      <td>S.GONCALO RIO ABAIXO</td>\n",
       "      <td>Branco</td>\n",
       "      <td>VW/GOL 1.0L MC4</td>\n",
       "      <td>NaN</td>\n",
       "      <td>NaN</td>\n",
       "      <td>AUTOMOVEL</td>\n",
       "      <td>NaN</td>\n",
       "      <td>NaN</td>\n",
       "    </tr>\n",
       "    <tr>\n",
       "      <th>3</th>\n",
       "      <td>2023</td>\n",
       "      <td>170325</td>\n",
       "      <td>170325/2023</td>\n",
       "      <td>01/02/2023 00:59</td>\n",
       "      <td>01/02/2023 00:59</td>\n",
       "      <td>31/01/2023</td>\n",
       "      <td>22:20</td>\n",
       "      <td>A NOITE</td>\n",
       "      <td>31/01/2023</td>\n",
       "      <td>01/02/2023 00:59</td>\n",
       "      <td>Desconhecida</td>\n",
       "      <td>Não</td>\n",
       "      <td>NaN</td>\n",
       "      <td>RUA CANHOBA</td>\n",
       "      <td>674.0</td>\n",
       "      <td>PERUS</td>\n",
       "      <td>S.PAULO</td>\n",
       "      <td>SP</td>\n",
       "      <td>-23,40694755</td>\n",
       "      <td>-46,74239546</td>\n",
       "      <td>Outros</td>\n",
       "      <td>NaN</td>\n",
       "      <td>BO PARA INVESTIGAÇÃO</td>\n",
       "      <td>DELEGACIA ELETRONICA</td>\n",
       "      <td>46º D.P. PERUS</td>\n",
       "      <td>Título II - Patrimônio (arts. 155 a 183)</td>\n",
       "      <td>Roubo (art. 157) - VEICULO</td>\n",
       "      <td>NaN</td>\n",
       "      <td>Consumado</td>\n",
       "      <td>NaN</td>\n",
       "      <td>NaN</td>\n",
       "      <td>NaN</td>\n",
       "      <td>NaN</td>\n",
       "      <td>NaN</td>\n",
       "      <td>NaN</td>\n",
       "      <td>NaN</td>\n",
       "      <td>NaN</td>\n",
       "      <td>NaN</td>\n",
       "      <td>NaN</td>\n",
       "      <td>NaN</td>\n",
       "      <td>NaN</td>\n",
       "      <td>NaN</td>\n",
       "      <td>NaN</td>\n",
       "      <td>NaN</td>\n",
       "      <td>FGI0816</td>\n",
       "      <td>SP</td>\n",
       "      <td>S.PAULO</td>\n",
       "      <td>Vermelho</td>\n",
       "      <td>CHEVROLET/ONIX 1.4MT LT</td>\n",
       "      <td>2013.0</td>\n",
       "      <td>NaN</td>\n",
       "      <td>AUTOMOVEL</td>\n",
       "      <td>NaN</td>\n",
       "      <td>NaN</td>\n",
       "    </tr>\n",
       "    <tr>\n",
       "      <th>4</th>\n",
       "      <td>2023</td>\n",
       "      <td>218</td>\n",
       "      <td>218/2023</td>\n",
       "      <td>01/02/2023 01:09</td>\n",
       "      <td>01/02/2023 01:09</td>\n",
       "      <td>31/01/2023</td>\n",
       "      <td>21:30</td>\n",
       "      <td>A NOITE</td>\n",
       "      <td>01/02/2023</td>\n",
       "      <td>01/02/2023 01:09</td>\n",
       "      <td>Desconhecida</td>\n",
       "      <td>Não</td>\n",
       "      <td>NaN</td>\n",
       "      <td>Estrada do Baygton</td>\n",
       "      <td>200.0</td>\n",
       "      <td>Loteamento Vale Florido</td>\n",
       "      <td>EMBU-GUACU</td>\n",
       "      <td>SP</td>\n",
       "      <td>-23,9009139</td>\n",
       "      <td>-46,8660661</td>\n",
       "      <td>Via pública</td>\n",
       "      <td>NaN</td>\n",
       "      <td>APRECIAÇÃO DO DELEGADO TITULAR</td>\n",
       "      <td>DEL.POL.EMBU-GUAÇU</td>\n",
       "      <td>DEL.POL.EMBU-GUAÇU</td>\n",
       "      <td>Título II - Patrimônio (arts. 155 a 183)</td>\n",
       "      <td>Roubo (art. 157) - VEICULO</td>\n",
       "      <td>NaN</td>\n",
       "      <td>Consumado</td>\n",
       "      <td>NaN</td>\n",
       "      <td>NaN</td>\n",
       "      <td>NaN</td>\n",
       "      <td>NaN</td>\n",
       "      <td>NaN</td>\n",
       "      <td>NaN</td>\n",
       "      <td>NaN</td>\n",
       "      <td>NaN</td>\n",
       "      <td>NaN</td>\n",
       "      <td>NaN</td>\n",
       "      <td>NaN</td>\n",
       "      <td>NaN</td>\n",
       "      <td>NaN</td>\n",
       "      <td>NaN</td>\n",
       "      <td>NaN</td>\n",
       "      <td>GBJ6A34</td>\n",
       "      <td>SP</td>\n",
       "      <td>EMBU-GUACU</td>\n",
       "      <td>Vermelho</td>\n",
       "      <td>TOYOTA/YARIS HB XLS15 AT</td>\n",
       "      <td>2018.0</td>\n",
       "      <td>2019.0</td>\n",
       "      <td>AUTOMOVEL</td>\n",
       "      <td>NaN</td>\n",
       "      <td>NaN</td>\n",
       "    </tr>\n",
       "  </tbody>\n",
       "</table>\n",
       "</div>"
      ],
      "text/plain": [
       "   ANO_BO  NUM_BO NUMERO_BOLETIM       BO_INICIADO        BO_EMITIDO  \\\n",
       "0    2023     298       298/2023  01/02/2023 00:00  01/02/2023 00:00   \n",
       "1    2023  170256    170256/2023  01/02/2023 00:06  01/02/2023 00:06   \n",
       "2    2023     131       131/2023  01/02/2023 00:29  01/02/2023 00:29   \n",
       "3    2023  170325    170325/2023  01/02/2023 00:59  01/02/2023 00:59   \n",
       "4    2023     218       218/2023  01/02/2023 01:09  01/02/2023 01:09   \n",
       "\n",
       "  DATAOCORRENCIA HORAOCORRENCIA PERIDOOCORRENCIA DATACOMUNICACAO  \\\n",
       "0     31/01/2023          20:30          A NOITE      31/01/2023   \n",
       "1     31/01/2023          21:20          A NOITE      31/01/2023   \n",
       "2     31/01/2023          19:20          A NOITE      01/02/2023   \n",
       "3     31/01/2023          22:20          A NOITE      31/01/2023   \n",
       "4     31/01/2023          21:30          A NOITE      01/02/2023   \n",
       "\n",
       "     DATAELABORACAO    BO_AUTORIA FLAGRANTE NUMERO_BOLETIM_PRINCIPAL  \\\n",
       "0  01/02/2023 00:00  Desconhecida       Não                      NaN   \n",
       "1  01/02/2023 00:06  Desconhecida       Não                      NaN   \n",
       "2  01/02/2023 00:29  Desconhecida       Não                      NaN   \n",
       "3  01/02/2023 00:59  Desconhecida       Não                      NaN   \n",
       "4  01/02/2023 01:09  Desconhecida       Não                      NaN   \n",
       "\n",
       "                      LOGRADOURO  NUMERO                        BAIRRO  \\\n",
       "0                            NaN     0.0  Jardim Residencial Ravagnani   \n",
       "1                 AVENIDA BRASIL   403.0             PARQUE DAS NAÇÕES   \n",
       "2  Rua Bernardino de Pinho Gomes    99.0          Jardim Sao Francisco   \n",
       "3                    RUA CANHOBA   674.0                         PERUS   \n",
       "4             Estrada do Baygton   200.0       Loteamento Vale Florido   \n",
       "\n",
       "       CIDADE  UF      LATITUDE     LONGITUDE DESCRICAOLOCAL  EXAME  \\\n",
       "0      SUMARE  SP           NaN           NaN     Residência    NaN   \n",
       "1     S.ANDRE  SP   -23,6391693  -46,52067314    Via pública    NaN   \n",
       "2     CUBATAO  SP   -23,8873564   -46,4180081    Via pública    NaN   \n",
       "3     S.PAULO  SP  -23,40694755  -46,74239546         Outros    NaN   \n",
       "4  EMBU-GUACU  SP   -23,9009139   -46,8660661    Via pública    NaN   \n",
       "\n",
       "                          SOLUCAO          DELEGACIA_NOME  \\\n",
       "0  ENCAMINHAMENTO DP ÁREA DO FATO  DEL.POL.PLANTÃO SUMARE   \n",
       "1            BO PARA INVESTIGAÇÃO    DELEGACIA ELETRONICA   \n",
       "2  ENCAMINHAMENTO DP ÁREA DO FATO         DEL.POL.CUBATÃO   \n",
       "3            BO PARA INVESTIGAÇÃO    DELEGACIA ELETRONICA   \n",
       "4  APRECIAÇÃO DO DELEGADO TITULAR      DEL.POL.EMBU-GUAÇU   \n",
       "\n",
       "  DELEGACIA_CIRCUNSCRICAO                                   ESPECIE  \\\n",
       "0         01º D.P. SUMARE  Título II - Patrimônio (arts. 155 a 183)   \n",
       "1    02º D.P. SANTO ANDRÉ  Título II - Patrimônio (arts. 155 a 183)   \n",
       "2         DEL.POL.CUBATÃO  Título II - Patrimônio (arts. 155 a 183)   \n",
       "3          46º D.P. PERUS  Título II - Patrimônio (arts. 155 a 183)   \n",
       "4      DEL.POL.EMBU-GUAÇU  Título II - Patrimônio (arts. 155 a 183)   \n",
       "\n",
       "                      RUBRICA DESDOBRAMENTO     STATUS TIPOPESSOA VITIMAFATAL  \\\n",
       "0  Roubo (art. 157) - VEICULO           NaN  Consumado        NaN         NaN   \n",
       "1  Roubo (art. 157) - VEICULO           NaN  Consumado        NaN         NaN   \n",
       "2  Roubo (art. 157) - VEICULO           NaN  Consumado        NaN         NaN   \n",
       "3  Roubo (art. 157) - VEICULO           NaN  Consumado        NaN         NaN   \n",
       "4  Roubo (art. 157) - VEICULO           NaN  Consumado        NaN         NaN   \n",
       "\n",
       "   NATURALIDADE  NACIONALIDADE SEXO DATANASCIMENTO  IDADE ESTADOCIVIL  \\\n",
       "0           NaN            NaN  NaN            NaN    NaN         NaN   \n",
       "1           NaN            NaN  NaN            NaN    NaN         NaN   \n",
       "2           NaN            NaN  NaN            NaN    NaN         NaN   \n",
       "3           NaN            NaN  NaN            NaN    NaN         NaN   \n",
       "4           NaN            NaN  NaN            NaN    NaN         NaN   \n",
       "\n",
       "  PROFISSAO GRAUINSTRUCAO  CORCUTIS NATUREZAVINCULADA TIPOVINCULO  \\\n",
       "0       NaN           NaN       NaN               NaN         NaN   \n",
       "1       NaN           NaN       NaN               NaN         NaN   \n",
       "2       NaN           NaN       NaN               NaN         NaN   \n",
       "3       NaN           NaN       NaN               NaN         NaN   \n",
       "4       NaN           NaN       NaN               NaN         NaN   \n",
       "\n",
       "   RELACIONAMENTO  PARENTESCO PLACA_VEICULO UF_VEICULO        CIDADE_VEICULO  \\\n",
       "0             NaN         NaN       ENZ6E37         SP                SUMARE   \n",
       "1             NaN         NaN       ELO9643         SP               S.ANDRE   \n",
       "2             NaN         NaN       RML3J64         MG  S.GONCALO RIO ABAIXO   \n",
       "3             NaN         NaN       FGI0816         SP               S.PAULO   \n",
       "4             NaN         NaN       GBJ6A34         SP            EMBU-GUACU   \n",
       "\n",
       "  DESCR_COR_VEICULO       DESCR_MARCA_VEICULO  ANO_FABRICACAO  ANO_MODELO  \\\n",
       "0             Prata       FORD/KA SE 1.0 HA C          2020.0      2020.0   \n",
       "1            Branco                VW/POLO MF          2018.0         NaN   \n",
       "2            Branco           VW/GOL 1.0L MC4             NaN         NaN   \n",
       "3          Vermelho   CHEVROLET/ONIX 1.4MT LT          2013.0         NaN   \n",
       "4          Vermelho  TOYOTA/YARIS HB XLS15 AT          2018.0      2019.0   \n",
       "\n",
       "  DESCR_TIPO_VEICULO  QUANT_CELULAR  MARCA_CELULAR  \n",
       "0          AUTOMOVEL            NaN            NaN  \n",
       "1          AUTOMOVEL            NaN            NaN  \n",
       "2          AUTOMOVEL            NaN            NaN  \n",
       "3          AUTOMOVEL            NaN            NaN  \n",
       "4          AUTOMOVEL            NaN            NaN  "
      ]
     },
     "execution_count": 66,
     "metadata": {},
     "output_type": "execute_result"
    }
   ],
   "source": [
    "df = pd.read_csv('roubo_veiculos.csv', encoding='ISO-8859-1', sep=';')\n",
    "df.head()"
   ]
  },
  {
   "cell_type": "code",
   "execution_count": 67,
   "id": "fb2b3d3c",
   "metadata": {},
   "outputs": [
    {
     "name": "stdout",
     "output_type": "stream",
     "text": [
      "Entradas: 11119\n",
      "Variaveis: 54\n"
     ]
    }
   ],
   "source": [
    "# Verificar o tamanho da base de dados\n",
    "print(f'Entradas: {df.shape[0]}')\n",
    "print(f'Variaveis: {df.shape[1]}')"
   ]
  },
  {
   "cell_type": "markdown",
   "id": "7d30b505",
   "metadata": {},
   "source": [
    "#### Limpeza dos dados\n",
    "\n",
    "Quantidade de dados ausentes em relaçao ao dataset .\n",
    "\n"
   ]
  },
  {
   "cell_type": "code",
   "execution_count": 68,
   "id": "452725f8",
   "metadata": {
    "scrolled": false
   },
   "outputs": [
    {
     "data": {
      "text/plain": [
       "MARCA_CELULAR               100.000000\n",
       "EXAME                       100.000000\n",
       "QUANT_CELULAR               100.000000\n",
       "PARENTESCO                  100.000000\n",
       "RELACIONAMENTO              100.000000\n",
       "CORCUTIS                    100.000000\n",
       "NACIONALIDADE               100.000000\n",
       "NATURALIDADE                100.000000\n",
       "GRAUINSTRUCAO                99.991006\n",
       "PROFISSAO                    99.901070\n",
       "ESTADOCIVIL                  99.829121\n",
       "DESDOBRAMENTO                99.802140\n",
       "SEXO                         99.586294\n",
       "TIPOPESSOA                   99.586294\n",
       "TIPOVINCULO                  99.586294\n",
       "NATUREZAVINCULADA            99.586294\n",
       "IDADE                        99.586294\n",
       "DATANASCIMENTO               99.586294\n",
       "VITIMAFATAL                  99.586294\n",
       "NUMERO_BOLETIM_PRINCIPAL     52.369817\n",
       "DESCR_TIPO_VEICULO           33.384297\n",
       "DESCR_COR_VEICULO            33.321342\n",
       "CIDADE_VEICULO               33.294361\n",
       "UF_VEICULO                   33.294361\n",
       "PLACA_VEICULO                33.231406\n",
       "DESCR_MARCA_VEICULO          33.213418\n",
       "ANO_MODELO                   15.172228\n",
       "LATITUDE                      9.353359\n",
       "LONGITUDE                     9.353359\n",
       "LOGRADOURO                    6.187607\n",
       "HORAOCORRENCIA                3.435561\n",
       "BAIRRO                        2.967893\n",
       "ANO_FABRICACAO                1.600863\n",
       "CIDADE                        0.521630\n",
       "NUMERO                        0.521630\n",
       "UF                            0.521630\n",
       "BO_INICIADO                   0.000000\n",
       "BO_EMITIDO                    0.000000\n",
       "NUMERO_BOLETIM                0.000000\n",
       "DESCRICAOLOCAL                0.000000\n",
       "PERIDOOCORRENCIA              0.000000\n",
       "DATAOCORRENCIA                0.000000\n",
       "FLAGRANTE                     0.000000\n",
       "DATACOMUNICACAO               0.000000\n",
       "DATAELABORACAO                0.000000\n",
       "BO_AUTORIA                    0.000000\n",
       "STATUS                        0.000000\n",
       "NUM_BO                        0.000000\n",
       "RUBRICA                       0.000000\n",
       "ESPECIE                       0.000000\n",
       "DELEGACIA_CIRCUNSCRICAO       0.000000\n",
       "DELEGACIA_NOME                0.000000\n",
       "SOLUCAO                       0.000000\n",
       "ANO_BO                        0.000000\n",
       "dtype: float64"
      ]
     },
     "execution_count": 68,
     "metadata": {},
     "output_type": "execute_result"
    }
   ],
   "source": [
    "porcentagem_nulos = ((df.isnull().sum() / df.shape[0]) *100).sort_values(ascending=False)\n",
    "porcentagem_nulos"
   ]
  },
  {
   "cell_type": "markdown",
   "id": "257f227b",
   "metadata": {},
   "source": [
    "Muitas colunas com grande quantidade de valores ausentes, quase 100%, o que dificulta a análise. Variáveis com mais de 50% de valores ausentes serão excluídas.\n",
    "\n",
    "Como a proposta é analisar os roubos de veículos na cidade de São Paulo e não envolve nenhuma questão de projetar modelos de predição ou outros modelos de machine learning, as outras variáveis com valores ausentes serão mantidas pois se excluídas terá uma perda significativa de dados, tendo em vista que em uma variável ou outra ficou alguns campos em branco no momento de registro do boletim de ocorrência."
   ]
  },
  {
   "cell_type": "code",
   "execution_count": 69,
   "id": "292411ef",
   "metadata": {},
   "outputs": [],
   "source": [
    "colunas_a_remover = porcentagem_nulos[porcentagem_nulos > 50].index\n",
    "\n",
    "df = df.drop(columns=colunas_a_remover)"
   ]
  },
  {
   "cell_type": "markdown",
   "id": "a9483205",
   "metadata": {},
   "source": [
    "Como mencionado na documentação da base de dados, pode existir valores duplicados. Por isso será necessario conferir a partir da variavel NUM_BO, onde devera conter valores unicos pois se trata do registro de cada ocorrencia."
   ]
  },
  {
   "cell_type": "code",
   "execution_count": 70,
   "id": "4e5ca1fc",
   "metadata": {},
   "outputs": [
    {
     "name": "stdout",
     "output_type": "stream",
     "text": [
      "Quantidade de valores duplicados: 8621\n",
      "Valores unicos: 2498\n"
     ]
    }
   ],
   "source": [
    "print('Quantidade de valores duplicados:',df['NUM_BO'].duplicated().sum())\n",
    "print('Valores unicos:',df['NUM_BO'].nunique())"
   ]
  },
  {
   "cell_type": "code",
   "execution_count": 71,
   "id": "f9162544",
   "metadata": {},
   "outputs": [
    {
     "name": "stdout",
     "output_type": "stream",
     "text": [
      "Entradas: 2498\n",
      "Variaveis: 34\n"
     ]
    }
   ],
   "source": [
    "df = df.drop_duplicates(subset=['NUM_BO'])\n",
    "\n",
    "# Tamanho da base \n",
    "print(f'Entradas: {df.shape[0]}')\n",
    "print(f'Variaveis: {df.shape[1]}')"
   ]
  },
  {
   "cell_type": "code",
   "execution_count": null,
   "id": "c7a180d3",
   "metadata": {},
   "outputs": [],
   "source": []
  },
  {
   "cell_type": "code",
   "execution_count": null,
   "id": "da04ba66",
   "metadata": {},
   "outputs": [],
   "source": []
  },
  {
   "cell_type": "markdown",
   "id": "43217374",
   "metadata": {},
   "source": [
    "#### Conferir os tipos dos dados"
   ]
  },
  {
   "cell_type": "code",
   "execution_count": 72,
   "id": "4fcdc8d9",
   "metadata": {
    "scrolled": false
   },
   "outputs": [
    {
     "name": "stdout",
     "output_type": "stream",
     "text": [
      "<class 'pandas.core.frame.DataFrame'>\n",
      "Int64Index: 2498 entries, 0 to 11115\n",
      "Data columns (total 34 columns):\n",
      " #   Column                   Non-Null Count  Dtype  \n",
      "---  ------                   --------------  -----  \n",
      " 0   ANO_BO                   2498 non-null   int64  \n",
      " 1   NUM_BO                   2498 non-null   int64  \n",
      " 2   NUMERO_BOLETIM           2498 non-null   object \n",
      " 3   BO_INICIADO              2498 non-null   object \n",
      " 4   BO_EMITIDO               2498 non-null   object \n",
      " 5   DATAOCORRENCIA           2498 non-null   object \n",
      " 6   HORAOCORRENCIA           2440 non-null   object \n",
      " 7   PERIDOOCORRENCIA         2498 non-null   object \n",
      " 8   DATACOMUNICACAO          2498 non-null   object \n",
      " 9   DATAELABORACAO           2498 non-null   object \n",
      " 10  BO_AUTORIA               2498 non-null   object \n",
      " 11  FLAGRANTE                2498 non-null   object \n",
      " 12  LOGRADOURO               2439 non-null   object \n",
      " 13  NUMERO                   2496 non-null   float64\n",
      " 14  BAIRRO                   2464 non-null   object \n",
      " 15  CIDADE                   2496 non-null   object \n",
      " 16  UF                       2496 non-null   object \n",
      " 17  LATITUDE                 2223 non-null   object \n",
      " 18  LONGITUDE                2223 non-null   object \n",
      " 19  DESCRICAOLOCAL           2498 non-null   object \n",
      " 20  SOLUCAO                  2498 non-null   object \n",
      " 21  DELEGACIA_NOME           2498 non-null   object \n",
      " 22  DELEGACIA_CIRCUNSCRICAO  2498 non-null   object \n",
      " 23  ESPECIE                  2498 non-null   object \n",
      " 24  RUBRICA                  2498 non-null   object \n",
      " 25  STATUS                   2498 non-null   object \n",
      " 26  PLACA_VEICULO            1702 non-null   object \n",
      " 27  UF_VEICULO               1702 non-null   object \n",
      " 28  CIDADE_VEICULO           1702 non-null   object \n",
      " 29  DESCR_COR_VEICULO        1703 non-null   object \n",
      " 30  DESCR_MARCA_VEICULO      1703 non-null   object \n",
      " 31  ANO_FABRICACAO           2464 non-null   float64\n",
      " 32  ANO_MODELO               1511 non-null   float64\n",
      " 33  DESCR_TIPO_VEICULO       1688 non-null   object \n",
      "dtypes: float64(3), int64(2), object(29)\n",
      "memory usage: 683.0+ KB\n"
     ]
    }
   ],
   "source": [
    "df.info()"
   ]
  },
  {
   "cell_type": "code",
   "execution_count": 73,
   "id": "be20301f",
   "metadata": {},
   "outputs": [
    {
     "data": {
      "text/html": [
       "<div>\n",
       "<style scoped>\n",
       "    .dataframe tbody tr th:only-of-type {\n",
       "        vertical-align: middle;\n",
       "    }\n",
       "\n",
       "    .dataframe tbody tr th {\n",
       "        vertical-align: top;\n",
       "    }\n",
       "\n",
       "    .dataframe thead th {\n",
       "        text-align: right;\n",
       "    }\n",
       "</style>\n",
       "<table border=\"1\" class=\"dataframe\">\n",
       "  <thead>\n",
       "    <tr style=\"text-align: right;\">\n",
       "      <th></th>\n",
       "      <th>ANO_BO</th>\n",
       "      <th>NUM_BO</th>\n",
       "      <th>NUMERO_BOLETIM</th>\n",
       "      <th>BO_INICIADO</th>\n",
       "      <th>BO_EMITIDO</th>\n",
       "      <th>DATAOCORRENCIA</th>\n",
       "      <th>HORAOCORRENCIA</th>\n",
       "      <th>PERIDOOCORRENCIA</th>\n",
       "      <th>DATACOMUNICACAO</th>\n",
       "      <th>DATAELABORACAO</th>\n",
       "      <th>BO_AUTORIA</th>\n",
       "      <th>FLAGRANTE</th>\n",
       "      <th>LOGRADOURO</th>\n",
       "      <th>NUMERO</th>\n",
       "      <th>BAIRRO</th>\n",
       "      <th>CIDADE</th>\n",
       "      <th>UF</th>\n",
       "      <th>LATITUDE</th>\n",
       "      <th>LONGITUDE</th>\n",
       "      <th>DESCRICAOLOCAL</th>\n",
       "      <th>SOLUCAO</th>\n",
       "      <th>DELEGACIA_NOME</th>\n",
       "      <th>DELEGACIA_CIRCUNSCRICAO</th>\n",
       "      <th>ESPECIE</th>\n",
       "      <th>RUBRICA</th>\n",
       "      <th>STATUS</th>\n",
       "      <th>PLACA_VEICULO</th>\n",
       "      <th>UF_VEICULO</th>\n",
       "      <th>CIDADE_VEICULO</th>\n",
       "      <th>DESCR_COR_VEICULO</th>\n",
       "      <th>DESCR_MARCA_VEICULO</th>\n",
       "      <th>ANO_FABRICACAO</th>\n",
       "      <th>ANO_MODELO</th>\n",
       "      <th>DESCR_TIPO_VEICULO</th>\n",
       "    </tr>\n",
       "  </thead>\n",
       "  <tbody>\n",
       "    <tr>\n",
       "      <th>0</th>\n",
       "      <td>2023</td>\n",
       "      <td>298</td>\n",
       "      <td>298/2023</td>\n",
       "      <td>01/02/2023 00:00</td>\n",
       "      <td>01/02/2023 00:00</td>\n",
       "      <td>31/01/2023</td>\n",
       "      <td>20:30</td>\n",
       "      <td>A NOITE</td>\n",
       "      <td>31/01/2023</td>\n",
       "      <td>01/02/2023 00:00</td>\n",
       "      <td>Desconhecida</td>\n",
       "      <td>Não</td>\n",
       "      <td>NaN</td>\n",
       "      <td>0.0</td>\n",
       "      <td>Jardim Residencial Ravagnani</td>\n",
       "      <td>SUMARE</td>\n",
       "      <td>SP</td>\n",
       "      <td>NaN</td>\n",
       "      <td>NaN</td>\n",
       "      <td>Residência</td>\n",
       "      <td>ENCAMINHAMENTO DP ÁREA DO FATO</td>\n",
       "      <td>DEL.POL.PLANTÃO SUMARE</td>\n",
       "      <td>01º D.P. SUMARE</td>\n",
       "      <td>Título II - Patrimônio (arts. 155 a 183)</td>\n",
       "      <td>Roubo (art. 157) - VEICULO</td>\n",
       "      <td>Consumado</td>\n",
       "      <td>ENZ6E37</td>\n",
       "      <td>SP</td>\n",
       "      <td>SUMARE</td>\n",
       "      <td>Prata</td>\n",
       "      <td>FORD/KA SE 1.0 HA C</td>\n",
       "      <td>2020.0</td>\n",
       "      <td>2020.0</td>\n",
       "      <td>AUTOMOVEL</td>\n",
       "    </tr>\n",
       "    <tr>\n",
       "      <th>1</th>\n",
       "      <td>2023</td>\n",
       "      <td>170256</td>\n",
       "      <td>170256/2023</td>\n",
       "      <td>01/02/2023 00:06</td>\n",
       "      <td>01/02/2023 00:06</td>\n",
       "      <td>31/01/2023</td>\n",
       "      <td>21:20</td>\n",
       "      <td>A NOITE</td>\n",
       "      <td>31/01/2023</td>\n",
       "      <td>01/02/2023 00:06</td>\n",
       "      <td>Desconhecida</td>\n",
       "      <td>Não</td>\n",
       "      <td>AVENIDA BRASIL</td>\n",
       "      <td>403.0</td>\n",
       "      <td>PARQUE DAS NAÇÕES</td>\n",
       "      <td>S.ANDRE</td>\n",
       "      <td>SP</td>\n",
       "      <td>-23,6391693</td>\n",
       "      <td>-46,52067314</td>\n",
       "      <td>Via pública</td>\n",
       "      <td>BO PARA INVESTIGAÇÃO</td>\n",
       "      <td>DELEGACIA ELETRONICA</td>\n",
       "      <td>02º D.P. SANTO ANDRÉ</td>\n",
       "      <td>Título II - Patrimônio (arts. 155 a 183)</td>\n",
       "      <td>Roubo (art. 157) - VEICULO</td>\n",
       "      <td>Consumado</td>\n",
       "      <td>ELO9643</td>\n",
       "      <td>SP</td>\n",
       "      <td>S.ANDRE</td>\n",
       "      <td>Branco</td>\n",
       "      <td>VW/POLO MF</td>\n",
       "      <td>2018.0</td>\n",
       "      <td>NaN</td>\n",
       "      <td>AUTOMOVEL</td>\n",
       "    </tr>\n",
       "    <tr>\n",
       "      <th>2</th>\n",
       "      <td>2023</td>\n",
       "      <td>131</td>\n",
       "      <td>131/2023</td>\n",
       "      <td>01/02/2023 00:29</td>\n",
       "      <td>01/02/2023 00:29</td>\n",
       "      <td>31/01/2023</td>\n",
       "      <td>19:20</td>\n",
       "      <td>A NOITE</td>\n",
       "      <td>01/02/2023</td>\n",
       "      <td>01/02/2023 00:29</td>\n",
       "      <td>Desconhecida</td>\n",
       "      <td>Não</td>\n",
       "      <td>Rua Bernardino de Pinho Gomes</td>\n",
       "      <td>99.0</td>\n",
       "      <td>Jardim Sao Francisco</td>\n",
       "      <td>CUBATAO</td>\n",
       "      <td>SP</td>\n",
       "      <td>-23,8873564</td>\n",
       "      <td>-46,4180081</td>\n",
       "      <td>Via pública</td>\n",
       "      <td>ENCAMINHAMENTO DP ÁREA DO FATO</td>\n",
       "      <td>DEL.POL.CUBATÃO</td>\n",
       "      <td>DEL.POL.CUBATÃO</td>\n",
       "      <td>Título II - Patrimônio (arts. 155 a 183)</td>\n",
       "      <td>Roubo (art. 157) - VEICULO</td>\n",
       "      <td>Consumado</td>\n",
       "      <td>RML3J64</td>\n",
       "      <td>MG</td>\n",
       "      <td>S.GONCALO RIO ABAIXO</td>\n",
       "      <td>Branco</td>\n",
       "      <td>VW/GOL 1.0L MC4</td>\n",
       "      <td>NaN</td>\n",
       "      <td>NaN</td>\n",
       "      <td>AUTOMOVEL</td>\n",
       "    </tr>\n",
       "    <tr>\n",
       "      <th>3</th>\n",
       "      <td>2023</td>\n",
       "      <td>170325</td>\n",
       "      <td>170325/2023</td>\n",
       "      <td>01/02/2023 00:59</td>\n",
       "      <td>01/02/2023 00:59</td>\n",
       "      <td>31/01/2023</td>\n",
       "      <td>22:20</td>\n",
       "      <td>A NOITE</td>\n",
       "      <td>31/01/2023</td>\n",
       "      <td>01/02/2023 00:59</td>\n",
       "      <td>Desconhecida</td>\n",
       "      <td>Não</td>\n",
       "      <td>RUA CANHOBA</td>\n",
       "      <td>674.0</td>\n",
       "      <td>PERUS</td>\n",
       "      <td>S.PAULO</td>\n",
       "      <td>SP</td>\n",
       "      <td>-23,40694755</td>\n",
       "      <td>-46,74239546</td>\n",
       "      <td>Outros</td>\n",
       "      <td>BO PARA INVESTIGAÇÃO</td>\n",
       "      <td>DELEGACIA ELETRONICA</td>\n",
       "      <td>46º D.P. PERUS</td>\n",
       "      <td>Título II - Patrimônio (arts. 155 a 183)</td>\n",
       "      <td>Roubo (art. 157) - VEICULO</td>\n",
       "      <td>Consumado</td>\n",
       "      <td>FGI0816</td>\n",
       "      <td>SP</td>\n",
       "      <td>S.PAULO</td>\n",
       "      <td>Vermelho</td>\n",
       "      <td>CHEVROLET/ONIX 1.4MT LT</td>\n",
       "      <td>2013.0</td>\n",
       "      <td>NaN</td>\n",
       "      <td>AUTOMOVEL</td>\n",
       "    </tr>\n",
       "    <tr>\n",
       "      <th>4</th>\n",
       "      <td>2023</td>\n",
       "      <td>218</td>\n",
       "      <td>218/2023</td>\n",
       "      <td>01/02/2023 01:09</td>\n",
       "      <td>01/02/2023 01:09</td>\n",
       "      <td>31/01/2023</td>\n",
       "      <td>21:30</td>\n",
       "      <td>A NOITE</td>\n",
       "      <td>01/02/2023</td>\n",
       "      <td>01/02/2023 01:09</td>\n",
       "      <td>Desconhecida</td>\n",
       "      <td>Não</td>\n",
       "      <td>Estrada do Baygton</td>\n",
       "      <td>200.0</td>\n",
       "      <td>Loteamento Vale Florido</td>\n",
       "      <td>EMBU-GUACU</td>\n",
       "      <td>SP</td>\n",
       "      <td>-23,9009139</td>\n",
       "      <td>-46,8660661</td>\n",
       "      <td>Via pública</td>\n",
       "      <td>APRECIAÇÃO DO DELEGADO TITULAR</td>\n",
       "      <td>DEL.POL.EMBU-GUAÇU</td>\n",
       "      <td>DEL.POL.EMBU-GUAÇU</td>\n",
       "      <td>Título II - Patrimônio (arts. 155 a 183)</td>\n",
       "      <td>Roubo (art. 157) - VEICULO</td>\n",
       "      <td>Consumado</td>\n",
       "      <td>GBJ6A34</td>\n",
       "      <td>SP</td>\n",
       "      <td>EMBU-GUACU</td>\n",
       "      <td>Vermelho</td>\n",
       "      <td>TOYOTA/YARIS HB XLS15 AT</td>\n",
       "      <td>2018.0</td>\n",
       "      <td>2019.0</td>\n",
       "      <td>AUTOMOVEL</td>\n",
       "    </tr>\n",
       "  </tbody>\n",
       "</table>\n",
       "</div>"
      ],
      "text/plain": [
       "   ANO_BO  NUM_BO NUMERO_BOLETIM       BO_INICIADO        BO_EMITIDO  \\\n",
       "0    2023     298       298/2023  01/02/2023 00:00  01/02/2023 00:00   \n",
       "1    2023  170256    170256/2023  01/02/2023 00:06  01/02/2023 00:06   \n",
       "2    2023     131       131/2023  01/02/2023 00:29  01/02/2023 00:29   \n",
       "3    2023  170325    170325/2023  01/02/2023 00:59  01/02/2023 00:59   \n",
       "4    2023     218       218/2023  01/02/2023 01:09  01/02/2023 01:09   \n",
       "\n",
       "  DATAOCORRENCIA HORAOCORRENCIA PERIDOOCORRENCIA DATACOMUNICACAO  \\\n",
       "0     31/01/2023          20:30          A NOITE      31/01/2023   \n",
       "1     31/01/2023          21:20          A NOITE      31/01/2023   \n",
       "2     31/01/2023          19:20          A NOITE      01/02/2023   \n",
       "3     31/01/2023          22:20          A NOITE      31/01/2023   \n",
       "4     31/01/2023          21:30          A NOITE      01/02/2023   \n",
       "\n",
       "     DATAELABORACAO    BO_AUTORIA FLAGRANTE                     LOGRADOURO  \\\n",
       "0  01/02/2023 00:00  Desconhecida       Não                            NaN   \n",
       "1  01/02/2023 00:06  Desconhecida       Não                 AVENIDA BRASIL   \n",
       "2  01/02/2023 00:29  Desconhecida       Não  Rua Bernardino de Pinho Gomes   \n",
       "3  01/02/2023 00:59  Desconhecida       Não                    RUA CANHOBA   \n",
       "4  01/02/2023 01:09  Desconhecida       Não             Estrada do Baygton   \n",
       "\n",
       "   NUMERO                        BAIRRO      CIDADE  UF      LATITUDE  \\\n",
       "0     0.0  Jardim Residencial Ravagnani      SUMARE  SP           NaN   \n",
       "1   403.0             PARQUE DAS NAÇÕES     S.ANDRE  SP   -23,6391693   \n",
       "2    99.0          Jardim Sao Francisco     CUBATAO  SP   -23,8873564   \n",
       "3   674.0                         PERUS     S.PAULO  SP  -23,40694755   \n",
       "4   200.0       Loteamento Vale Florido  EMBU-GUACU  SP   -23,9009139   \n",
       "\n",
       "      LONGITUDE DESCRICAOLOCAL                         SOLUCAO  \\\n",
       "0           NaN     Residência  ENCAMINHAMENTO DP ÁREA DO FATO   \n",
       "1  -46,52067314    Via pública            BO PARA INVESTIGAÇÃO   \n",
       "2   -46,4180081    Via pública  ENCAMINHAMENTO DP ÁREA DO FATO   \n",
       "3  -46,74239546         Outros            BO PARA INVESTIGAÇÃO   \n",
       "4   -46,8660661    Via pública  APRECIAÇÃO DO DELEGADO TITULAR   \n",
       "\n",
       "           DELEGACIA_NOME DELEGACIA_CIRCUNSCRICAO  \\\n",
       "0  DEL.POL.PLANTÃO SUMARE         01º D.P. SUMARE   \n",
       "1    DELEGACIA ELETRONICA    02º D.P. SANTO ANDRÉ   \n",
       "2         DEL.POL.CUBATÃO         DEL.POL.CUBATÃO   \n",
       "3    DELEGACIA ELETRONICA          46º D.P. PERUS   \n",
       "4      DEL.POL.EMBU-GUAÇU      DEL.POL.EMBU-GUAÇU   \n",
       "\n",
       "                                    ESPECIE                     RUBRICA  \\\n",
       "0  Título II - Patrimônio (arts. 155 a 183)  Roubo (art. 157) - VEICULO   \n",
       "1  Título II - Patrimônio (arts. 155 a 183)  Roubo (art. 157) - VEICULO   \n",
       "2  Título II - Patrimônio (arts. 155 a 183)  Roubo (art. 157) - VEICULO   \n",
       "3  Título II - Patrimônio (arts. 155 a 183)  Roubo (art. 157) - VEICULO   \n",
       "4  Título II - Patrimônio (arts. 155 a 183)  Roubo (art. 157) - VEICULO   \n",
       "\n",
       "      STATUS PLACA_VEICULO UF_VEICULO        CIDADE_VEICULO DESCR_COR_VEICULO  \\\n",
       "0  Consumado       ENZ6E37         SP                SUMARE             Prata   \n",
       "1  Consumado       ELO9643         SP               S.ANDRE            Branco   \n",
       "2  Consumado       RML3J64         MG  S.GONCALO RIO ABAIXO            Branco   \n",
       "3  Consumado       FGI0816         SP               S.PAULO          Vermelho   \n",
       "4  Consumado       GBJ6A34         SP            EMBU-GUACU          Vermelho   \n",
       "\n",
       "        DESCR_MARCA_VEICULO  ANO_FABRICACAO  ANO_MODELO DESCR_TIPO_VEICULO  \n",
       "0       FORD/KA SE 1.0 HA C          2020.0      2020.0          AUTOMOVEL  \n",
       "1                VW/POLO MF          2018.0         NaN          AUTOMOVEL  \n",
       "2           VW/GOL 1.0L MC4             NaN         NaN          AUTOMOVEL  \n",
       "3   CHEVROLET/ONIX 1.4MT LT          2013.0         NaN          AUTOMOVEL  \n",
       "4  TOYOTA/YARIS HB XLS15 AT          2018.0      2019.0          AUTOMOVEL  "
      ]
     },
     "execution_count": 73,
     "metadata": {},
     "output_type": "execute_result"
    }
   ],
   "source": [
    "df.head()"
   ]
  },
  {
   "cell_type": "markdown",
   "id": "655cd5d5",
   "metadata": {},
   "source": [
    "#### Tratamentos em outras variáveis\n",
    "\n",
    " - NUM_BO e NUMERO_BOLETIM -> As informações são praticamente as mesmas com a diferença que em NUMERO_BOLETIM adiciona apenas a extensão do ano 2023, tendo em vista que toda a base é de apenas um ano, é uma informação desnecessária.\n",
    " \n",
    " \n",
    " - BO_INICIADO e BO_EMITIDO trazem a mesma informação. Será unificado.\n",
    " \n",
    " \n",
    " - DATAELABORACAO é o mesmo que BO_EMITIDO.\n",
    " \n",
    " \n",
    " - UF é desnecessário pois todas os dados são de UF SP .\n",
    " \n",
    " \n",
    " - DESCR_MARCA_VEICULO serão separados para melhor analise. Obter a marca e o modelo do veículo separadamente.\n",
    " \n",
    " \n",
    " - Extrair o dia do mês e o mês da variável DATAOCORRENCIA para melhor analise .\n",
    " \n",
    " - A variável BAIRRO consta dados em maiúsculo e em minúsculo, o que pode causar diferenciação entre os nomes sendo que são os mesmos, serao alterados todos para maiúsculo.\n",
    "\n"
   ]
  },
  {
   "cell_type": "code",
   "execution_count": 74,
   "id": "d2e3f59a",
   "metadata": {},
   "outputs": [],
   "source": [
    "# Exclusao das variaveis\n",
    "df.drop(columns=['NUMERO_BOLETIM', 'BO_INICIADO','DATAELABORACAO', 'UF'], inplace=True)"
   ]
  },
  {
   "cell_type": "code",
   "execution_count": 75,
   "id": "0e3aa7bb",
   "metadata": {},
   "outputs": [],
   "source": [
    "# Novas colunas 'Marca' e 'Veiculo' a partir da coluna 'DESCR_MARCA_VEICULO'\n",
    "df[['MARCA', 'MODELO']] = df['DESCR_MARCA_VEICULO'].str.split('/',1, expand=True)\n",
    "\n",
    "# Excluir a coluna original 'DESCR_MARCA_VEICULO'\n",
    "df.drop(columns=['DESCR_MARCA_VEICULO'], inplace=True)"
   ]
  },
  {
   "cell_type": "code",
   "execution_count": 76,
   "id": "9d7087b4",
   "metadata": {},
   "outputs": [],
   "source": [
    "df['BAIRRO'] = df['BAIRRO'].str.upper()"
   ]
  },
  {
   "cell_type": "code",
   "execution_count": 77,
   "id": "63c35c16",
   "metadata": {},
   "outputs": [],
   "source": [
    "# Convertendo a coluna DATAOCORRENCIA para o formato de data\n",
    "df['DATAOCORRENCIA'] = pd.to_datetime(df['DATAOCORRENCIA'])\n",
    "\n",
    "# Extraindo o dia do mês e o mês em colunas separadas\n",
    "df['DIA'] = df['DATAOCORRENCIA'].dt.day\n",
    "df['MES'] = df['DATAOCORRENCIA'].dt.month"
   ]
  },
  {
   "cell_type": "code",
   "execution_count": 78,
   "id": "fb8f32bb",
   "metadata": {
    "scrolled": false
   },
   "outputs": [
    {
     "data": {
      "text/html": [
       "<div>\n",
       "<style scoped>\n",
       "    .dataframe tbody tr th:only-of-type {\n",
       "        vertical-align: middle;\n",
       "    }\n",
       "\n",
       "    .dataframe tbody tr th {\n",
       "        vertical-align: top;\n",
       "    }\n",
       "\n",
       "    .dataframe thead th {\n",
       "        text-align: right;\n",
       "    }\n",
       "</style>\n",
       "<table border=\"1\" class=\"dataframe\">\n",
       "  <thead>\n",
       "    <tr style=\"text-align: right;\">\n",
       "      <th></th>\n",
       "      <th>ANO_BO</th>\n",
       "      <th>NUM_BO</th>\n",
       "      <th>BO_EMITIDO</th>\n",
       "      <th>DATAOCORRENCIA</th>\n",
       "      <th>HORAOCORRENCIA</th>\n",
       "      <th>PERIDOOCORRENCIA</th>\n",
       "      <th>DATACOMUNICACAO</th>\n",
       "      <th>BO_AUTORIA</th>\n",
       "      <th>FLAGRANTE</th>\n",
       "      <th>LOGRADOURO</th>\n",
       "      <th>NUMERO</th>\n",
       "      <th>BAIRRO</th>\n",
       "      <th>CIDADE</th>\n",
       "      <th>LATITUDE</th>\n",
       "      <th>LONGITUDE</th>\n",
       "      <th>DESCRICAOLOCAL</th>\n",
       "      <th>SOLUCAO</th>\n",
       "      <th>DELEGACIA_NOME</th>\n",
       "      <th>DELEGACIA_CIRCUNSCRICAO</th>\n",
       "      <th>ESPECIE</th>\n",
       "      <th>RUBRICA</th>\n",
       "      <th>STATUS</th>\n",
       "      <th>PLACA_VEICULO</th>\n",
       "      <th>UF_VEICULO</th>\n",
       "      <th>CIDADE_VEICULO</th>\n",
       "      <th>DESCR_COR_VEICULO</th>\n",
       "      <th>ANO_FABRICACAO</th>\n",
       "      <th>ANO_MODELO</th>\n",
       "      <th>DESCR_TIPO_VEICULO</th>\n",
       "      <th>MARCA</th>\n",
       "      <th>MODELO</th>\n",
       "      <th>DIA</th>\n",
       "      <th>MES</th>\n",
       "    </tr>\n",
       "  </thead>\n",
       "  <tbody>\n",
       "    <tr>\n",
       "      <th>0</th>\n",
       "      <td>2023</td>\n",
       "      <td>298</td>\n",
       "      <td>01/02/2023 00:00</td>\n",
       "      <td>2023-01-31</td>\n",
       "      <td>20:30</td>\n",
       "      <td>A NOITE</td>\n",
       "      <td>31/01/2023</td>\n",
       "      <td>Desconhecida</td>\n",
       "      <td>Não</td>\n",
       "      <td>NaN</td>\n",
       "      <td>0.0</td>\n",
       "      <td>JARDIM RESIDENCIAL RAVAGNANI</td>\n",
       "      <td>SUMARE</td>\n",
       "      <td>NaN</td>\n",
       "      <td>NaN</td>\n",
       "      <td>Residência</td>\n",
       "      <td>ENCAMINHAMENTO DP ÁREA DO FATO</td>\n",
       "      <td>DEL.POL.PLANTÃO SUMARE</td>\n",
       "      <td>01º D.P. SUMARE</td>\n",
       "      <td>Título II - Patrimônio (arts. 155 a 183)</td>\n",
       "      <td>Roubo (art. 157) - VEICULO</td>\n",
       "      <td>Consumado</td>\n",
       "      <td>ENZ6E37</td>\n",
       "      <td>SP</td>\n",
       "      <td>SUMARE</td>\n",
       "      <td>Prata</td>\n",
       "      <td>2020.0</td>\n",
       "      <td>2020.0</td>\n",
       "      <td>AUTOMOVEL</td>\n",
       "      <td>FORD</td>\n",
       "      <td>KA SE 1.0 HA C</td>\n",
       "      <td>31</td>\n",
       "      <td>1</td>\n",
       "    </tr>\n",
       "    <tr>\n",
       "      <th>1</th>\n",
       "      <td>2023</td>\n",
       "      <td>170256</td>\n",
       "      <td>01/02/2023 00:06</td>\n",
       "      <td>2023-01-31</td>\n",
       "      <td>21:20</td>\n",
       "      <td>A NOITE</td>\n",
       "      <td>31/01/2023</td>\n",
       "      <td>Desconhecida</td>\n",
       "      <td>Não</td>\n",
       "      <td>AVENIDA BRASIL</td>\n",
       "      <td>403.0</td>\n",
       "      <td>PARQUE DAS NAÇÕES</td>\n",
       "      <td>S.ANDRE</td>\n",
       "      <td>-23,6391693</td>\n",
       "      <td>-46,52067314</td>\n",
       "      <td>Via pública</td>\n",
       "      <td>BO PARA INVESTIGAÇÃO</td>\n",
       "      <td>DELEGACIA ELETRONICA</td>\n",
       "      <td>02º D.P. SANTO ANDRÉ</td>\n",
       "      <td>Título II - Patrimônio (arts. 155 a 183)</td>\n",
       "      <td>Roubo (art. 157) - VEICULO</td>\n",
       "      <td>Consumado</td>\n",
       "      <td>ELO9643</td>\n",
       "      <td>SP</td>\n",
       "      <td>S.ANDRE</td>\n",
       "      <td>Branco</td>\n",
       "      <td>2018.0</td>\n",
       "      <td>NaN</td>\n",
       "      <td>AUTOMOVEL</td>\n",
       "      <td>VW</td>\n",
       "      <td>POLO MF</td>\n",
       "      <td>31</td>\n",
       "      <td>1</td>\n",
       "    </tr>\n",
       "    <tr>\n",
       "      <th>2</th>\n",
       "      <td>2023</td>\n",
       "      <td>131</td>\n",
       "      <td>01/02/2023 00:29</td>\n",
       "      <td>2023-01-31</td>\n",
       "      <td>19:20</td>\n",
       "      <td>A NOITE</td>\n",
       "      <td>01/02/2023</td>\n",
       "      <td>Desconhecida</td>\n",
       "      <td>Não</td>\n",
       "      <td>Rua Bernardino de Pinho Gomes</td>\n",
       "      <td>99.0</td>\n",
       "      <td>JARDIM SAO FRANCISCO</td>\n",
       "      <td>CUBATAO</td>\n",
       "      <td>-23,8873564</td>\n",
       "      <td>-46,4180081</td>\n",
       "      <td>Via pública</td>\n",
       "      <td>ENCAMINHAMENTO DP ÁREA DO FATO</td>\n",
       "      <td>DEL.POL.CUBATÃO</td>\n",
       "      <td>DEL.POL.CUBATÃO</td>\n",
       "      <td>Título II - Patrimônio (arts. 155 a 183)</td>\n",
       "      <td>Roubo (art. 157) - VEICULO</td>\n",
       "      <td>Consumado</td>\n",
       "      <td>RML3J64</td>\n",
       "      <td>MG</td>\n",
       "      <td>S.GONCALO RIO ABAIXO</td>\n",
       "      <td>Branco</td>\n",
       "      <td>NaN</td>\n",
       "      <td>NaN</td>\n",
       "      <td>AUTOMOVEL</td>\n",
       "      <td>VW</td>\n",
       "      <td>GOL 1.0L MC4</td>\n",
       "      <td>31</td>\n",
       "      <td>1</td>\n",
       "    </tr>\n",
       "    <tr>\n",
       "      <th>3</th>\n",
       "      <td>2023</td>\n",
       "      <td>170325</td>\n",
       "      <td>01/02/2023 00:59</td>\n",
       "      <td>2023-01-31</td>\n",
       "      <td>22:20</td>\n",
       "      <td>A NOITE</td>\n",
       "      <td>31/01/2023</td>\n",
       "      <td>Desconhecida</td>\n",
       "      <td>Não</td>\n",
       "      <td>RUA CANHOBA</td>\n",
       "      <td>674.0</td>\n",
       "      <td>PERUS</td>\n",
       "      <td>S.PAULO</td>\n",
       "      <td>-23,40694755</td>\n",
       "      <td>-46,74239546</td>\n",
       "      <td>Outros</td>\n",
       "      <td>BO PARA INVESTIGAÇÃO</td>\n",
       "      <td>DELEGACIA ELETRONICA</td>\n",
       "      <td>46º D.P. PERUS</td>\n",
       "      <td>Título II - Patrimônio (arts. 155 a 183)</td>\n",
       "      <td>Roubo (art. 157) - VEICULO</td>\n",
       "      <td>Consumado</td>\n",
       "      <td>FGI0816</td>\n",
       "      <td>SP</td>\n",
       "      <td>S.PAULO</td>\n",
       "      <td>Vermelho</td>\n",
       "      <td>2013.0</td>\n",
       "      <td>NaN</td>\n",
       "      <td>AUTOMOVEL</td>\n",
       "      <td>CHEVROLET</td>\n",
       "      <td>ONIX 1.4MT LT</td>\n",
       "      <td>31</td>\n",
       "      <td>1</td>\n",
       "    </tr>\n",
       "    <tr>\n",
       "      <th>4</th>\n",
       "      <td>2023</td>\n",
       "      <td>218</td>\n",
       "      <td>01/02/2023 01:09</td>\n",
       "      <td>2023-01-31</td>\n",
       "      <td>21:30</td>\n",
       "      <td>A NOITE</td>\n",
       "      <td>01/02/2023</td>\n",
       "      <td>Desconhecida</td>\n",
       "      <td>Não</td>\n",
       "      <td>Estrada do Baygton</td>\n",
       "      <td>200.0</td>\n",
       "      <td>LOTEAMENTO VALE FLORIDO</td>\n",
       "      <td>EMBU-GUACU</td>\n",
       "      <td>-23,9009139</td>\n",
       "      <td>-46,8660661</td>\n",
       "      <td>Via pública</td>\n",
       "      <td>APRECIAÇÃO DO DELEGADO TITULAR</td>\n",
       "      <td>DEL.POL.EMBU-GUAÇU</td>\n",
       "      <td>DEL.POL.EMBU-GUAÇU</td>\n",
       "      <td>Título II - Patrimônio (arts. 155 a 183)</td>\n",
       "      <td>Roubo (art. 157) - VEICULO</td>\n",
       "      <td>Consumado</td>\n",
       "      <td>GBJ6A34</td>\n",
       "      <td>SP</td>\n",
       "      <td>EMBU-GUACU</td>\n",
       "      <td>Vermelho</td>\n",
       "      <td>2018.0</td>\n",
       "      <td>2019.0</td>\n",
       "      <td>AUTOMOVEL</td>\n",
       "      <td>TOYOTA</td>\n",
       "      <td>YARIS HB XLS15 AT</td>\n",
       "      <td>31</td>\n",
       "      <td>1</td>\n",
       "    </tr>\n",
       "  </tbody>\n",
       "</table>\n",
       "</div>"
      ],
      "text/plain": [
       "   ANO_BO  NUM_BO        BO_EMITIDO DATAOCORRENCIA HORAOCORRENCIA  \\\n",
       "0    2023     298  01/02/2023 00:00     2023-01-31          20:30   \n",
       "1    2023  170256  01/02/2023 00:06     2023-01-31          21:20   \n",
       "2    2023     131  01/02/2023 00:29     2023-01-31          19:20   \n",
       "3    2023  170325  01/02/2023 00:59     2023-01-31          22:20   \n",
       "4    2023     218  01/02/2023 01:09     2023-01-31          21:30   \n",
       "\n",
       "  PERIDOOCORRENCIA DATACOMUNICACAO    BO_AUTORIA FLAGRANTE  \\\n",
       "0          A NOITE      31/01/2023  Desconhecida       Não   \n",
       "1          A NOITE      31/01/2023  Desconhecida       Não   \n",
       "2          A NOITE      01/02/2023  Desconhecida       Não   \n",
       "3          A NOITE      31/01/2023  Desconhecida       Não   \n",
       "4          A NOITE      01/02/2023  Desconhecida       Não   \n",
       "\n",
       "                      LOGRADOURO  NUMERO                        BAIRRO  \\\n",
       "0                            NaN     0.0  JARDIM RESIDENCIAL RAVAGNANI   \n",
       "1                 AVENIDA BRASIL   403.0             PARQUE DAS NAÇÕES   \n",
       "2  Rua Bernardino de Pinho Gomes    99.0          JARDIM SAO FRANCISCO   \n",
       "3                    RUA CANHOBA   674.0                         PERUS   \n",
       "4             Estrada do Baygton   200.0       LOTEAMENTO VALE FLORIDO   \n",
       "\n",
       "       CIDADE      LATITUDE     LONGITUDE DESCRICAOLOCAL  \\\n",
       "0      SUMARE           NaN           NaN     Residência   \n",
       "1     S.ANDRE   -23,6391693  -46,52067314    Via pública   \n",
       "2     CUBATAO   -23,8873564   -46,4180081    Via pública   \n",
       "3     S.PAULO  -23,40694755  -46,74239546         Outros   \n",
       "4  EMBU-GUACU   -23,9009139   -46,8660661    Via pública   \n",
       "\n",
       "                          SOLUCAO          DELEGACIA_NOME  \\\n",
       "0  ENCAMINHAMENTO DP ÁREA DO FATO  DEL.POL.PLANTÃO SUMARE   \n",
       "1            BO PARA INVESTIGAÇÃO    DELEGACIA ELETRONICA   \n",
       "2  ENCAMINHAMENTO DP ÁREA DO FATO         DEL.POL.CUBATÃO   \n",
       "3            BO PARA INVESTIGAÇÃO    DELEGACIA ELETRONICA   \n",
       "4  APRECIAÇÃO DO DELEGADO TITULAR      DEL.POL.EMBU-GUAÇU   \n",
       "\n",
       "  DELEGACIA_CIRCUNSCRICAO                                   ESPECIE  \\\n",
       "0         01º D.P. SUMARE  Título II - Patrimônio (arts. 155 a 183)   \n",
       "1    02º D.P. SANTO ANDRÉ  Título II - Patrimônio (arts. 155 a 183)   \n",
       "2         DEL.POL.CUBATÃO  Título II - Patrimônio (arts. 155 a 183)   \n",
       "3          46º D.P. PERUS  Título II - Patrimônio (arts. 155 a 183)   \n",
       "4      DEL.POL.EMBU-GUAÇU  Título II - Patrimônio (arts. 155 a 183)   \n",
       "\n",
       "                      RUBRICA     STATUS PLACA_VEICULO UF_VEICULO  \\\n",
       "0  Roubo (art. 157) - VEICULO  Consumado       ENZ6E37         SP   \n",
       "1  Roubo (art. 157) - VEICULO  Consumado       ELO9643         SP   \n",
       "2  Roubo (art. 157) - VEICULO  Consumado       RML3J64         MG   \n",
       "3  Roubo (art. 157) - VEICULO  Consumado       FGI0816         SP   \n",
       "4  Roubo (art. 157) - VEICULO  Consumado       GBJ6A34         SP   \n",
       "\n",
       "         CIDADE_VEICULO DESCR_COR_VEICULO  ANO_FABRICACAO  ANO_MODELO  \\\n",
       "0                SUMARE             Prata          2020.0      2020.0   \n",
       "1               S.ANDRE            Branco          2018.0         NaN   \n",
       "2  S.GONCALO RIO ABAIXO            Branco             NaN         NaN   \n",
       "3               S.PAULO          Vermelho          2013.0         NaN   \n",
       "4            EMBU-GUACU          Vermelho          2018.0      2019.0   \n",
       "\n",
       "  DESCR_TIPO_VEICULO      MARCA             MODELO  DIA  MES  \n",
       "0          AUTOMOVEL       FORD     KA SE 1.0 HA C   31    1  \n",
       "1          AUTOMOVEL         VW            POLO MF   31    1  \n",
       "2          AUTOMOVEL         VW       GOL 1.0L MC4   31    1  \n",
       "3          AUTOMOVEL  CHEVROLET      ONIX 1.4MT LT   31    1  \n",
       "4          AUTOMOVEL     TOYOTA  YARIS HB XLS15 AT   31    1  "
      ]
     },
     "execution_count": 78,
     "metadata": {},
     "output_type": "execute_result"
    }
   ],
   "source": [
    "df.head()"
   ]
  },
  {
   "cell_type": "code",
   "execution_count": 79,
   "id": "8d7735ac",
   "metadata": {},
   "outputs": [],
   "source": [
    "# Exclusão das linhas \n",
    "#df.dropna(inplace=True)"
   ]
  },
  {
   "cell_type": "markdown",
   "id": "08bc0ebf",
   "metadata": {},
   "source": [
    "## Análises\n",
    "### Ocorrências x Bairros\n",
    "\n",
    "A análise dos bairros mais afetados por roubos de veículos em São Paulo, identificou-se dentre os oito locais com maior incidência de casos, dois se sobressaem de maneira significativa, Centro e Sao Mateus. \n",
    "\n",
    "Talvez seja prudente considerar a implementação de medidas de segurança mais rigorosas, como aumento da presença policial e instalação de câmeras de vigilância estrategicamente posicionadas. Além disso, promover uma maior conscientização da comunidade local sobre precauções de segurança ao estacionar e circular pela região pode ajudar a reduzir as oportunidades para atividades criminosas.\n",
    "\n",
    "Por outro lado, o Centro, por ser uma área comercial e de grande fluxo de pessoas, pode estar suscetível a roubos de veículos devido à falta de áreas de estacionamento seguras. Investir na criação de estacionamentos supervisionados e bem iluminados, juntamente com o fortalecimento da presença policial, poderia dissuadir os criminosos. Além disso, a colaboração com as empresas locais para promover a segurança dos veículos de seus funcionários e clientes pode contribuir para uma melhoria geral."
   ]
  },
  {
   "cell_type": "code",
   "execution_count": 80,
   "id": "506c56f2",
   "metadata": {},
   "outputs": [
    {
     "data": {
      "image/png": "[encoded data removed]",
      "text/plain": [
       "<Figure size 900x500 with 1 Axes>"
      ]
     },
     "metadata": {},
     "output_type": "display_data"
    }
   ],
   "source": [
    "# Bairros com maior incidência de roubo de veículos\n",
    "top_bairros = df['BAIRRO'].value_counts().head(8)\n",
    "plt.figure(figsize=(9, 5))\n",
    "sns.barplot(x=top_bairros.values, y=top_bairros.index)\n",
    "plt.title(\"Top 8 Bairros com Maior Incidência de Roubo de Veículos\")\n",
    "plt.xlabel(\"Número de Ocorrências\")\n",
    "plt.ylabel(\"Bairro\")\n",
    "plt.show()"
   ]
  },
  {
   "cell_type": "markdown",
   "id": "b5fba1e1",
   "metadata": {},
   "source": [
    "### Ocorrências x Mês\n",
    "\n",
    "A identificação do mês de fevereiro como o líder destacado em termos de ocorrências de roubo de veículos ao longo do ano sugere a presença de um padrão sazonal significativo. Vários fatores podem contribuir para essa tendência.\n",
    "\n",
    "Primeiramente, é importante considerar as férias escolares, que normalmente ocorrem no mês de fevereiro em muitas regiões do Brasil. Com um aumento no número de pessoas fora de suas rotinas regulares, os criminosos podem perceber um ambiente mais propício para atividades ilícitas, incluindo roubos de veículos. O aumento do fluxo de turistas também pode desempenhar um papel nesse aumento, já que visitantes muitas vezes não estão familiarizados com a área e podem ser alvos mais fáceis.\n",
    "\n",
    "Outro aspecto é o clima. Em algumas partes do país, fevereiro marca o ápice da estação de verão, caracterizada por dias mais longos e clima quente. Essas condições podem levar a uma maior circulação de pessoas nas ruas, tanto durante o dia quanto à noite, o que pode resultar em mais oportunidades para crimes, incluindo roubos de veículos.\n",
    "\n",
    "Além disso, o aumento do consumo e atividade econômica associado ao período de Carnaval pode desviar a atenção das autoridades de segurança pública e dos cidadãos, o que os criminosos podem aproveitar para agir com mais impunidade.\n",
    "\n",
    "Para lidar com essa sazonalidade acentuada, medidas preventivas específicas para o mês de fevereiro podem ser consideradas. Reforçar a presença policial em áreas propensas a roubos de veículos durante esse período, implementar campanhas de conscientização dirigidas aos turistas e moradores sobre precauções de segurança extra, e estabelecer parcerias com setores públicos e privados para garantir uma resposta coordenada são algumas estratégias que podem ser adotadas.\n",
    "\n",
    "Em resumo, a análise da sazonalidade dos roubos de veículos em fevereiro aponta para a importância de reconhecer os fatores como férias escolares, aumento do fluxo turístico e características climáticas. Adotar medidas de segurança proativas durante esse período específico pode ajudar a mitigar o impacto desses fatores e reduzir o número de roubos de veículos nesse período crítico."
   ]
  },
  {
   "cell_type": "code",
   "execution_count": 81,
   "id": "0fce7537",
   "metadata": {},
   "outputs": [
    {
     "data": {
      "image/png": "[encoded data removed]",
      "text/plain": [
       "<Figure size 1000x600 with 1 Axes>"
      ]
     },
     "metadata": {},
     "output_type": "display_data"
    }
   ],
   "source": [
    "# Sazonalidade nos roubos ao longo do ano\n",
    "df['MES'] = df['DATAOCORRENCIA'].dt.month\n",
    "plt.figure(figsize=(10, 6))\n",
    "sns.countplot(x='MES', data=df)\n",
    "plt.title(\"Sazonalidade dos Roubos de Veículos ao Longo do Ano\")\n",
    "plt.xlabel(\"Mês\")\n",
    "plt.ylabel(\"Número de Ocorrências\")\n",
    "plt.show()"
   ]
  },
  {
   "cell_type": "markdown",
   "id": "84296a08",
   "metadata": {},
   "source": [
    "### Ocorrências x Horários\n",
    "\n",
    "A análise dos horários de ocorrência de roubos de veículos aponta para uma concentração entre 19h e 22h. Essa tendência pode ser explicada por uma combinação de fatores relacionados a padrões de atividade humana e condições de visibilidade.\n",
    "\n",
    "Durante esse período, muitas pessoas estão retornando para casa após um dia de trabalho, escola ou outras atividades. Isso cria uma janela de oportunidade para os criminosos, pois os motoristas podem estar distraídos e cansados, o que os torna alvos mais vulneráveis. Além disso, o aumento do tráfego nesses horários pode levar a congestionamentos, o que pode tornar mais fácil para os criminosos se aproximarem dos veículos e realizarem os roubos.\n",
    "\n",
    "Outro fator a considerar é a diminuição da luz natural à medida que o dia avança para a noite. A redução da visibilidade pode facilitar as atividades criminosas, já que os criminosos podem se esconder com mais facilidade e as vítimas podem ter dificuldade em identificá-los com precisão.\n",
    "\n",
    "Para abordar essa tendência, é essencial implementar estratégias de segurança específicas para esses horários críticos. Aumentar a presença policial em áreas de maior risco durante a tarde e à noite, melhorar a iluminação pública em locais estratégicos, além de educar os cidadãos sobre medidas de precaução ao dirigir e estacionar em horários mais suscetíveis, podem ser ações eficazes.\n",
    "\n",
    "Ao reconhecer a concentração de roubos de veículos entre 19h e 22h, as autoridades e comunidades podem colaborar para criar um ambiente mais seguro, reduzindo as oportunidades para atividades criminosas e protegendo os cidadãos durante esses momentos cruciais do dia."
   ]
  },
  {
   "cell_type": "code",
   "execution_count": 82,
   "id": "a56f0a3f",
   "metadata": {},
   "outputs": [
    {
     "data": {
      "image/png": "[encoded data removed]",
      "text/plain": [
       "<Figure size 900x500 with 1 Axes>"
      ]
     },
     "metadata": {},
     "output_type": "display_data"
    }
   ],
   "source": [
    "df['HORAOCORRENCIA'] = pd.to_datetime(df['HORAOCORRENCIA']).dt.time\n",
    "\n",
    "# Horário mais comum para roubos de veículos\n",
    "df['HORAOCORRENCIA'] = pd.to_datetime(df['HORAOCORRENCIA'], format='%H:%M:%S')\n",
    "df['HORA'] = df['HORAOCORRENCIA'].dt.hour\n",
    "\n",
    "plt.figure(figsize=(9, 5))\n",
    "sns.histplot(df['HORA'], bins=24, kde=True)\n",
    "plt.title(\"Horário Mais Comum para Roubos de Veículos\")\n",
    "plt.xlabel(\"Hora do Dia\")\n",
    "plt.ylabel(\"Número de Ocorrências\")\n",
    "plt.xticks(range(24))\n",
    "plt.grid(False) \n",
    "plt.show()"
   ]
  },
  {
   "cell_type": "markdown",
   "id": "c24d8d8f",
   "metadata": {},
   "source": [
    "### Ocorrências x Local\n",
    "\n",
    "A análise da descrição dos locais das ocorrências de roubos de veículos revela que a categoria \"Via pública\" se destaca de maneira significativa em relação a outras localizações. Essa tendência pode ser atribuída a diversos fatores relacionados à natureza das vias públicas e às oportunidades que elas oferecem aos criminosos.\n",
    "\n",
    "As vias públicas são espaços de acesso livre e movimentação constante de pessoas e veículos, o que pode fornecer uma cobertura propícia para ações criminosas. A facilidade de abordagem e fuga é ampliada em vias públicas, tornando-as locais atrativos para criminosos que buscam realizar roubos de veículos de forma rápida e discreta.\n",
    "\n",
    "A visibilidade limitada em muitas áreas urbanas, especialmente à noite, pode proporcionar um ambiente favorável para criminosos se aproximarem dos veículos sem serem detectados. Além disso, a diversidade de vias públicas, desde avenidas movimentadas até ruas mais tranquilas, permite que os criminosos escolham locais estrategicamente vantajosos para suas atividades.\n",
    "\n",
    "Para combater essa tendência, é essencial adotar medidas que visem aumentar a segurança nas vias públicas. Investir em iluminação adequada, especialmente em áreas mais escuras, pode ajudar a inibir atividades criminosas. Aumentar a presença policial e patrulhamento em regiões com histórico de ocorrências também é uma estratégia eficaz.\n",
    "\n",
    "Além disso, conscientizar os cidadãos sobre a importância de adotar precauções de segurança ao estacionar e circular em vias públicas pode contribuir para reduzir as oportunidades para roubos. Encorajar práticas como trancar os veículos, evitar deixar objetos de valor à vista e estar atento ao ambiente ao redor pode dissuadir os criminosos.\n",
    "\n",
    "Ao reconhecer a prevalência de roubos de veículos em vias públicas, é possível implementar medidas específicas para fortalecer a segurança nesses locais e proporcionar maior tranquilidade para os cidadãos, mitigando a vulnerabilidade que esses espaços podem apresentar."
   ]
  },
  {
   "cell_type": "code",
   "execution_count": 83,
   "id": "04fe7f11",
   "metadata": {},
   "outputs": [
    {
     "data": {
      "image/png": "[encoded data removed]",
      "text/plain": [
       "<Figure size 800x600 with 1 Axes>"
      ]
     },
     "metadata": {},
     "output_type": "display_data"
    }
   ],
   "source": [
    "local = df['DESCRICAOLOCAL'].value_counts().head()\n",
    "\n",
    "\n",
    "plt.figure(figsize=(8, 6))\n",
    "sns.set(style=\"whitegrid\")\n",
    "sns.barplot(x=local.index, y=local.values, palette=\"viridis\")\n",
    "plt.xticks(rotation=90)\n",
    "plt.xlabel('Descrição do Local')\n",
    "plt.ylabel('Número de Ocorrências')\n",
    "plt.title('Distribuição de Ocorrências de Roubo de Veículos por Local')\n",
    "plt.tight_layout()\n",
    "plt.grid(False) \n",
    "plt.show()"
   ]
  },
  {
   "cell_type": "markdown",
   "id": "af1066db",
   "metadata": {},
   "source": [
    "### Ocorrências x Cidades \n",
    "\n",
    "A análise das cidades com maior incidência de roubos de veículos destaca São Paulo como líder disparado. Isso se deve à alta densidade populacional, grande número de veículos em circulação e complexa estrutura urbana da cidade. As diversas vias públicas, oferecem oportunidades para crimes. Para enfrentar esse desafio, é necessário reforçar a presença policial em áreas de risco, adotar tecnologias de vigilância e promover conscientização pública sobre medidas preventivas de segurança. Ao reconhecer essa disparidade, as autoridades podem desenvolver abordagens adaptadas a cada bairro, visando tornar São Paulo mais seguro para todos."
   ]
  },
  {
   "cell_type": "code",
   "execution_count": 84,
   "id": "f996b49b",
   "metadata": {},
   "outputs": [
    {
     "data": {
      "image/png": "[encoded data removed]",
      "text/plain": [
       "<Figure size 800x500 with 1 Axes>"
      ]
     },
     "metadata": {},
     "output_type": "display_data"
    }
   ],
   "source": [
    "top_cidades = df['CIDADE'].value_counts().head()\n",
    "\n",
    "\n",
    "plt.figure(figsize=(8, 5))\n",
    "sns.set(style=\"whitegrid\")\n",
    "sns.barplot(x=top_cidades.index, y=top_cidades.values, palette=\"viridis\")\n",
    "plt.xticks(rotation=45)\n",
    "plt.xlabel('Cidade')\n",
    "plt.ylabel('Número de Ocorrências')\n",
    "plt.title('Top 5 Cidades com Mais Ocorrências de Roubo de Veículos')\n",
    "plt.tight_layout()\n",
    "plt.grid(False) \n",
    "plt.show()"
   ]
  },
  {
   "cell_type": "markdown",
   "id": "3a741239",
   "metadata": {},
   "source": [
    "### Ocorrências x Cor dos Veículos\n",
    "\n",
    "Embora a análise de roubos por cores de veículos possa parecer um detalhe superficial, a predominância de veículos de cor branca como alvos de roubos pode oferecer algumas perspectivas importantes. É possível que essa tendência seja influenciada por alguns fatores, que vão desde preferências do mercado até fatores práticos relacionados à criminalidade.\n",
    "\n",
    "Carros de cor branca podem ser escolhidos por serem mais discretos e menos chamativos. Essa característica pode torná-los alvos atraentes para criminosos, pois um veículo branco pode ser mais facilmente escondido em meio ao tráfego ou a áreas urbanas. \n",
    "\n",
    "Outro aspecto a considerar é a popularidade dos carros brancos no mercado. Se os veículos de cor branca representam uma grande proporção dos carros em circulação, é natural que eles também sejam mais vistos em roubos, simplesmente devido à maior disponibilidade desses modelos.\n",
    "\n",
    "Para lidar com essa tendência, é importante não subestimar a análise das cores dos veículos. Medidas como fortalecer o policiamento em áreas com histórico de roubos de veículos brancos, incentivar proprietários a adotar dispositivos antifurto e promover a conscientização sobre a importância da segurança independente da cor do veículo podem ser eficazes.\n",
    "\n",
    "Embora a análise das cores de veículos possa parecer trivial, a liderança dos carros de cor branca nos roubos pode ser influenciada por sua discrição e popularidade."
   ]
  },
  {
   "cell_type": "code",
   "execution_count": 85,
   "id": "4bfda323",
   "metadata": {},
   "outputs": [
    {
     "data": {
      "image/png": "[encoded data removed]",
      "text/plain": [
       "<Figure size 800x500 with 1 Axes>"
      ]
     },
     "metadata": {},
     "output_type": "display_data"
    }
   ],
   "source": [
    "df = df.dropna(subset=['DESCR_COR_VEICULO'])\n",
    "unique_colors = df['DESCR_COR_VEICULO'].unique()\n",
    "\n",
    "# Cores de Veículos Roubados\n",
    "plt.figure(figsize=(8, 5))\n",
    "sns.countplot(x='DESCR_COR_VEICULO', data=df, order=unique_colors)\n",
    "plt.title(\"Cores de Veículos Roubados\")\n",
    "plt.xlabel(\"Cor do Veículo\")\n",
    "plt.ylabel(\"Número de Ocorrências\")\n",
    "plt.xticks(rotation=45)\n",
    "plt.grid(False) \n",
    "plt.show()"
   ]
  },
  {
   "cell_type": "markdown",
   "id": "b4d275fb",
   "metadata": {},
   "source": [
    "### Ocorrências x Marcas e Modelos de veículos\n",
    "\n",
    "A análise das marcas e modelos com maior incidência de roubos revela que a marca Honda, especialmente o modelo CG 160 FAN, lidera com destaque. Essa diferença significativa pode ser atribuída a uma combinação de fatores, incluindo popularidade de mercado, características dos modelos e facilidades relacionadas ao roubo de motocicletas.\n",
    "\n",
    "O modelo CG 160 FAN é um dos modelos mais vendidos e reconhecidos da Honda no Brasil. Sua grande presença nas ruas pode ser um fator que contribui para sua alta incidência em roubos. Além disso, as motocicletas tendem a ser mais vulneráveis a roubos devido à sua mobilidade, o que facilita a fuga rápida após o crime.\n",
    "\n",
    "A facilidade de roubo de motocicletas é, de fato, um fator a ser considerado. Por serem mais leves e compactas do que carros, as motos podem ser manobradas com maior agilidade em espaços apertados, o que pode facilitar a fuga dos criminosos. A demanda por peças de reposição também pode influenciar, já que as motocicletas roubadas podem ser desmontadas e vendidas como peças sobressalentes.\n",
    "\n",
    "É fundamental aumentar a conscientização dos proprietários de motocicletas sobre medidas de segurança, como o uso de dispositivos antifurto, travas de guidão e estacionamento seguro. Além disso, fortalecer o policiamento em áreas com histórico de roubos de motocicletas e colaborar com as autoridades para rastrear e recuperar veículos roubados são estratégias importantes."
   ]
  },
  {
   "cell_type": "code",
   "execution_count": 86,
   "id": "e4f30576",
   "metadata": {},
   "outputs": [
    {
     "data": {
      "image/png": "[encoded data removed]",
      "text/plain": [
       "<Figure size 1100x600 with 1 Axes>"
      ]
     },
     "metadata": {},
     "output_type": "display_data"
    },
    {
     "data": {
      "image/png": "[encoded data removed]",
      "text/plain": [
       "<Figure size 1100x600 with 1 Axes>"
      ]
     },
     "metadata": {},
     "output_type": "display_data"
    }
   ],
   "source": [
    "# Verificando as marcas e modelos únicos\n",
    "unique_models = df['MARCA'] + \" \" + df['MODELO']\n",
    "unique_models = unique_models.dropna().unique()\n",
    "\n",
    "# Marcas e Modelos Mais Roubados\n",
    "plt.figure(figsize=(11, 6))\n",
    "sns.countplot(y='MARCA', data=df, order=df['MARCA'].value_counts().index[:10])\n",
    "plt.title(\"Marcas Mais Roubadas\")\n",
    "plt.xlabel(\"Número de Ocorrências\")\n",
    "plt.ylabel(\"Marca do Veículo\")\n",
    "plt.show()\n",
    "\n",
    "plt.figure(figsize=(11, 6))\n",
    "sns.countplot(y='MODELO', data=df, order=df['MODELO'].value_counts().index[:10])\n",
    "plt.title(\"Modelos Mais Roubados\")\n",
    "plt.xlabel(\"Número de Ocorrências\")\n",
    "plt.ylabel(\"Modelo do Veículo\")\n",
    "plt.show()"
   ]
  },
  {
   "cell_type": "markdown",
   "id": "42ed5e81",
   "metadata": {},
   "source": [
    "### Ocorrências x Dias da semana\n",
    "\n",
    "A análise dos dias da semana com maior incidência de roubos de veículos revela que a segunda-feira e a quinta-feira se destacam ligeiramente em relação aos demais dias. Embora a diferença não seja tão acentuada, essa observação pode fornecer  percepções sobre os padrões de atividade criminosa ao longo da semana.\n",
    "\n",
    "A segunda-feira pode estar associada a um aumento nas ocorrências devido ao retorno das atividades após o final de semana. As pessoas podem estar mais desatentas ou desorganizadas, o que pode torná-las alvos mais fáceis. Além disso, o trânsito mais congestionado em áreas urbanas durante as manhãs de segunda-feira pode criar oportunidades para abordagens rápidas e furtivas.\n",
    "\n",
    "Já a quinta-feira pode ser impactada pela antecipação do final de semana, com muitas pessoas saindo para compromissos sociais ou lazer. Essa maior movimentação pode proporcionar oportunidades para atividades criminosas, especialmente no período da tarde e da noite.\n",
    "\n",
    "Em resumo, a análise dos dias da semana com maior incidência de roubos aponta para segundas-feiras e quintas-feiras como levemente mais propícias a esses crimes. A conscientização pública e o reforço da segurança nesses dias podem ajudar a mitigar o impacto dessas tendências e proporcionar um ambiente mais seguro para os cidadãos."
   ]
  },
  {
   "cell_type": "code",
   "execution_count": 87,
   "id": "36ecd046",
   "metadata": {},
   "outputs": [
    {
     "data": {
      "image/png": "[encoded data removed]",
      "text/plain": [
       "<Figure size 900x600 with 1 Axes>"
      ]
     },
     "metadata": {},
     "output_type": "display_data"
    }
   ],
   "source": [
    "df['DIA_SEMANA'] = df['DATAOCORRENCIA'].dt.day_name()\n",
    "\n",
    "plt.figure(figsize=(9, 6))\n",
    "sns.countplot(x='DIA_SEMANA', data=df, order=['Sunday', 'Monday', 'Tuesday', 'Wednesday', 'Thursday', 'Friday', 'Saturday'])\n",
    "plt.title(\"Dias da Semana com Mais Ocorrências de Roubos de Veículos\")\n",
    "plt.xlabel(\"Dia da Semana\")\n",
    "plt.ylabel(\"Número de Ocorrências\")\n",
    "plt.grid(False) \n",
    "plt.show()"
   ]
  },
  {
   "cell_type": "markdown",
   "id": "0c1d29a8",
   "metadata": {},
   "source": [
    "### Ocorrências x Faixa Dia do Mês\n",
    "\n",
    "A análise da quantidade de ocorrências de roubos de veículos em relação aos dias do mês revelou uma disparidade notável, com uma incidência significativamente maior nos primeiros dias do mês, de 1 a 5. Essa tendência pode ser atribuída a fatores que podem influenciar a ocorrência de roubos em diferentes momentos do mês.\n",
    "\n",
    "O início do mês muitas vezes está relacionado ao pagamento de salários e benefícios sociais, o que pode aumentar a circulação de dinheiro e bens, incluindo veículos. Esse aumento na movimentação financeira pode criar um ambiente propício para atividades criminosas, já que os criminosos podem identificar mais oportunidades para agir.\n",
    "\n",
    "Para abordar essa tendência, é fundamental intensificar as medidas de conscientização e segurança nos primeiros dias do mês. Campanhas educativas que destacam a importância de precauções de segurança consistentes, independentemente do dia do mês, podem ajudar a mitigar o risco de roubos. Além disso, a colaboração com instituições financeiras e empresas para promover medidas preventivas junto aos beneficiários pode reduzir as oportunidades para atividades criminosas."
   ]
  },
  {
   "cell_type": "code",
   "execution_count": 88,
   "id": "f9230ef3",
   "metadata": {},
   "outputs": [
    {
     "data": {
      "image/png": "[encoded data removed]",
      "text/plain": [
       "<Figure size 1000x600 with 1 Axes>"
      ]
     },
     "metadata": {},
     "output_type": "display_data"
    }
   ],
   "source": [
    "bins = [0, 5, 10, 15, 20, 25, 31]\n",
    "labels = [\"1-5\", \"6-10\", \"11-15\", \"16-20\", \"21-25\", \"26-31\"]\n",
    "df[\"FAIXA_DIA_MES\"] = pd.cut(df[\"DIA\"], bins=bins, labels=labels, right=False)\n",
    "\n",
    "# Contar as ocorrências de roubo por faixa de dia do mês\n",
    "ocorrencias_por_faixa = df[\"FAIXA_DIA_MES\"].value_counts().sort_index()\n",
    "\n",
    "# Personalizar o estilo do gráfico\n",
    "plt.figure(figsize=(10, 6))\n",
    "ocorrencias_por_faixa.plot(kind=\"bar\", color=\"#900C3F\")  # Altera a cor para roxo (purple)\n",
    "plt.title(\"Ocorrências de Roubo de Veículos por Faixa de Dia do Mês\")\n",
    "plt.xlabel(\"Faixa de Dia do Mês\")\n",
    "plt.ylabel(\"Número de Ocorrências\")\n",
    "plt.xticks(rotation=45)\n",
    "plt.grid(False)  \n",
    "plt.show()"
   ]
  },
  {
   "cell_type": "markdown",
   "id": "62e31cd3",
   "metadata": {},
   "source": [
    "### Ocorrências x Flagrantes\n",
    "\n",
    "Os roubos em sua maioria nao são em flagrantes. Essa discrepância pode sugerir que a maioria dos roubos de veículos não é testemunhada ou interrompida durante a execução do crime, o que pode ter implicações diversas.\n",
    "\n",
    "A ausência de flagrantes pode ser explicada por vários fatores. Muitos roubos de veículos podem ocorrer em locais isolados ou em horários em que há menos testemunhas presentes. Além disso, os criminosos podem usar táticas de abordagem rápida e dissimulação para evitar serem detectados em flagrante.\n",
    "\n",
    "Essa análise ressalta a necessidade de adotar medidas proativas de prevenção, uma vez que a falta de flagrantes pode dificultar a resposta imediata das autoridades. Investir em tecnologias de vigilância, como câmeras de segurança, pode ajudar a monitorar áreas propensas a roubos e identificar atividades suspeitas. Além disso, a conscientização pública sobre o que fazer em caso de testemunho de um roubo em andamento pode incentivar a colaboração da comunidade com as autoridades.\n",
    "\n",
    "A abordagem preventiva é fundamental para reduzir os roubos de veículos, mesmo quando flagrantes são menos comuns. Ao adotar estratégias que desencorajam os criminosos e facilitam a identificação de atividades suspeitas, é possível aumentar a eficácia da resposta policial e, consequentemente, reduzir o número geral de roubos de veículos.\n",
    "\n",
    "Em resumo, a análise dos roubos sem flagrantes enfatiza a importância de abordagens preventivas."
   ]
  },
  {
   "cell_type": "code",
   "execution_count": 89,
   "id": "edd5df71",
   "metadata": {},
   "outputs": [
    {
     "data": {
      "image/png": "[encoded data removed]",
      "text/plain": [
       "<Figure size 600x400 with 1 Axes>"
      ]
     },
     "metadata": {},
     "output_type": "display_data"
    }
   ],
   "source": [
    "plt.figure(figsize=(6, 4))\n",
    "sns.countplot(x='FLAGRANTE', data=df)\n",
    "plt.title(\"Ocorrências de Roubo de Veículos em Flagrante\")\n",
    "plt.xlabel(\"Flagrante\")\n",
    "plt.ylabel(\"Número de Ocorrências\")\n",
    "plt.show()"
   ]
  },
  {
   "cell_type": "code",
   "execution_count": 90,
   "id": "ef67c340",
   "metadata": {},
   "outputs": [
    {
     "data": {
      "application/vnd.plotly.v1+json": {
       "config": {
        "plotlyServerURL": "https://plot.ly"
       },
       "data": [
        {
         "hovertemplate": "LATITUDE=%{lat}<br>LONGITUDE=%{lon}<extra></extra>",
         "lat": [
          -23.16723043,
          -23.6939197,
          -21.1312773,
          -22.856393,
          -23.64421392,
          -22.9935889,
          -23.67105327,
          -23.68872108,
          -23.0873599,
          -23.62699174,
          -23.62831257,
          -23.4390587,
          -23.17194706,
          -23.6078298,
          -23.71609482,
          -23.34145937,
          -23.61743616,
          -23.55661,
          -22.8838155,
          -23.63708533,
          -23.64842027,
          -22.5696826,
          -23.57568312,
          -23.1485612,
          -23.15125353,
          -21.20091333,
          -23.697009,
          -23.2386949,
          -22.7603585,
          -23.5522789,
          -23.8394854,
          -23.5542417,
          -23.5808331,
          -23.17231473,
          -22.9041718,
          -23.41486864,
          -23.6237643,
          -23.51982506,
          -23.45566277,
          -23.46943239,
          -23.43443201,
          -23.6367677,
          -23.57291477,
          -22.37150407,
          -23.65843232,
          -22.85179261,
          -21.16856029,
          -23.68119487,
          -24.2792448,
          -23.1720738,
          -23.55499647,
          -23.62574489,
          -23.64299497,
          -23.57529151,
          -23.149897,
          -23.62574489,
          -21.33561329,
          -23.1063165,
          -23.44656947,
          -23.5452686,
          -23.57942026,
          -23.43598097,
          -23.52101526,
          -23.59557886,
          -22.7475736,
          -23.48745554,
          -23.71211816,
          -23.68042007,
          -21.5985992,
          -23.78029728,
          -23.9543679,
          -22.55925766,
          -23.5968258,
          -23.64842027,
          -23.4066103,
          -23.7697585,
          -22.7042274,
          -23.67720671,
          -22.32242242,
          -23.71120376,
          -22.55986398,
          -23.5564814,
          -23.4761265,
          -23.43598097,
          -22.4107652,
          -23.44006794,
          -23.45905163,
          -23.63923783,
          -23.7183375,
          -23.4676565,
          -22.8527108,
          -23.71334885,
          -23.6630289,
          -22.5815082,
          -23.7373761,
          -23.0154732,
          -23.55467816,
          -23.62644263,
          -24.11594692,
          -22.9375405,
          -23.7057508,
          -23.51380075,
          -23.6664717,
          -22.8442006,
          -23.8274298,
          -23.66530837,
          -23.53901585,
          -23.72301904,
          -23.72159612,
          -22.86037287,
          -23.5708209,
          -23.52672613,
          -23.6207857,
          -22.87616555,
          -22.96956089,
          -24.2680688,
          -22.8442006,
          -23.1246558,
          -23.61929531,
          -23.55403853,
          -23.5341211,
          -22.4107652,
          -23.73043185,
          -23.5179577,
          -23.71434208,
          -22.85313471,
          -23.49906971,
          -23.7128426,
          -23.72084144,
          -23.5421768,
          -22.9401605,
          -23.1950115,
          -23.44612788,
          -23.5716038,
          -23.57206983,
          -22.87226166,
          -21.14957268,
          -23.58719816,
          -22.4226006,
          -22.97890416,
          -23.64888562,
          -23.61493125,
          -23.63578169,
          -23.49708704,
          -23.56838882,
          -23.44684181,
          -23.1822675,
          -22.3840702,
          -23.65309721,
          -23.6827418,
          -23.6498466,
          -23.47841829,
          -22.17370378,
          -20.93617641,
          -23.6032706,
          -22.8573469,
          -23.2198396,
          -23.5637829,
          -23.9500142,
          -22.97181733,
          -23.6218429,
          -23.7257869,
          -23.5144337,
          -21.704184,
          -23.490536,
          -22.59958715,
          -20.7098383,
          -23.46737,
          -23.7183375,
          -23.5330555,
          -23.01412415,
          -23.70352022,
          -22.8711399,
          -23.4485243,
          -22.91049648,
          -23.7508386,
          -23.01412415,
          -23.45376877,
          -23.58719816,
          -22.74710535,
          -23.55577117,
          -23.4855749,
          -22.79611469,
          -23.15051294,
          -23.7417842,
          -23.66523626,
          -21.20141972,
          -22.7255789,
          -23.97711172,
          -23.63154398,
          -21.16440989,
          -23.61945806,
          -23.62781608,
          -23.49881455,
          -22.8527108,
          -20.8323584,
          -23.59111488,
          -22.3840702,
          -23.85473071,
          -23.5485768,
          -23.75568017,
          -23.57835332,
          -23.4445097,
          -23.7029336,
          -23.53470291,
          -23.4423171,
          -23.51555985,
          -23.5015369,
          -21.79566868,
          -23.4944734,
          -23.5637829,
          -22.5851998,
          -22.89158011,
          -23.5784943,
          -22.58252899,
          -23.58648454,
          -23.12253706,
          -22.7808569,
          -22.7808569,
          -22.33416,
          -20.490021,
          -23.5928205,
          -20.490021,
          -23.5928205,
          -22.94331709,
          -23.12253706,
          -23.68801062,
          -23.58616017,
          -23.7181871,
          -23.721524,
          -23.9632471,
          -23.6218429,
          -22.7818175,
          -23.21075415,
          -23.4712465,
          -23.5711599,
          -23.57845501,
          -23.61260177,
          -22.56688902,
          -23.7508336,
          -22.65197396,
          -23.5986493,
          -23.68967271,
          -23.68821381,
          -23.52073991,
          -23.46495687,
          -23.59662856,
          -23.48440552,
          -22.5756379,
          -23.6313658,
          -23.70293,
          -23.68336317,
          -23.58180779,
          -22.7599149,
          -23.7454601,
          -23.65501603,
          -23.5945163,
          -23.993142,
          -23.49792855,
          -23.4287218,
          -23.6926888,
          -22.8527108,
          -24.16129309,
          -23.5759729,
          -23.59687639,
          -23.73393107,
          -22.87723585,
          -23.49306495,
          -23.9749008,
          -22.93206697,
          -23.67883924,
          -23.4822332,
          -22.9037938,
          -23.6065338,
          -23.49345778,
          -23.0012906,
          -23.1240399,
          -23.00164306,
          -23.5770671,
          -23.13800856,
          -23.00845081,
          -23.46683916,
          -23.4867835,
          -23.7322973,
          -23.4651246,
          -23.46921521,
          -23.6406765,
          -22.9279223,
          -23.4209452,
          -23.7244727,
          -22.6437421,
          -23.02414836,
          -23.5387157,
          -23.40881665,
          -23.14796421,
          -23.62000731,
          -23.745199,
          -23.50437727,
          -23.6710078,
          -23.5221314,
          -23.59382992,
          -23.5396195,
          -23.6208236,
          -22.719874,
          -20.4107701,
          -23.54018553,
          -22.7775695,
          -23.3658429,
          -23.5881021,
          -22.8474628,
          -23.5823851,
          -22.818841,
          -23.94741523,
          -23.35054663,
          -23.41202446,
          -23.00845081,
          -23.63835069,
          -20.56977614,
          -20.56977614,
          -23.58197304,
          -23.7063257,
          -23.6281403,
          -23.38678285,
          -23.915291,
          -23.7597972,
          -23.59839914,
          -22.93735223,
          -23.7318138,
          -23.61267925,
          -23.74262743,
          -23.7009007,
          -23.5531258,
          -23.74481641,
          -23.7045344,
          -22.93735223,
          -23.56026436,
          -23.59839914,
          -22.91136829,
          -22.256863,
          -22.8830636,
          -23.55985665,
          -21.15009073,
          -23.4795112,
          -23.52182099,
          -23.6735242,
          -23.46099387,
          -20.80750952,
          -20.80750952,
          -23.5451066,
          -23.62273127,
          -23.5912379,
          -23.5660566,
          -23.52623091,
          -21.26594422,
          -23.745199,
          -23.5963703,
          -23.48873373,
          -20.56977614,
          -22.9246334,
          -23.64265942,
          -23.49590482,
          -23.7374429,
          -22.3396039,
          -23.3152674,
          -23.3095355,
          -23.61227728,
          -20.20969323,
          -23.7846115,
          -23.44808293,
          -23.50015022,
          -21.7556838,
          -23.18543728,
          -23.6085715,
          -22.85907551,
          -23.61233178,
          -20.77167553,
          -23.70368916,
          -23.62781608,
          -22.8114744,
          -23.6322158,
          -23.47240113,
          -23.46830956,
          -22.91054581,
          -23.61227728,
          -23.61227728,
          -23.5123396,
          -23.52191132,
          -23.65210444,
          -23.74918703,
          -23.4215376,
          -23.70368916,
          -23.5355779,
          -23.4676565,
          -23.4931879,
          -23.5048477,
          -23.6186461,
          -22.851338,
          -23.43225885,
          -23.5985857,
          -23.62937401,
          -23.5377536,
          -23.53653305,
          -23.3545384,
          -20.7613568,
          -23.4596858,
          -23.67006897,
          -23.60555387,
          -23.48170517,
          -23.4030327,
          -23.46731684,
          -23.55118884,
          -23.67578851,
          -22.5756379,
          -23.59463631,
          -23.6457497,
          -23.72401538,
          -23.5869893,
          -23.6023117,
          -23.6023117,
          -22.19800691,
          -23.5178261,
          -23.45988456,
          -22.98498465,
          -22.84786118,
          -22.77325459,
          -23.6023117,
          -23.64011499,
          -22.84592029,
          -23.61915638,
          -23.56629286,
          -23.5727103,
          -23.2831775,
          -22.93790553,
          -23.5048477,
          -23.60938808,
          -23.6313658,
          -23.73863714,
          -23.5727103,
          -22.98429842,
          -22.97494544,
          -23.5727103,
          -22.7912287,
          -23.60857923,
          -23.63932285,
          -23.5153129,
          -22.82815344,
          -22.5730212,
          -23.5098599,
          -23.00082134,
          -23.64977397,
          -23.6994478,
          -23.005643,
          -23.5727103,
          -23.6320991,
          -23.06243226,
          -23.59283412,
          -23.6572109,
          -23.60581941,
          -23.51792003,
          -22.3791177,
          -23.39038568,
          -23.51792003,
          -22.8513637,
          -23.6442222,
          -21.26594422,
          -22.72173506,
          -23.6448085,
          -23.55548924,
          -23.6183226,
          -22.8835111,
          -23.85374027,
          -23.5197137,
          -23.4923808,
          -22.8589767,
          -23.55253866,
          -23.5818919,
          -22.8777955,
          -23.6568445,
          -23.6742954,
          -23.6939197,
          -22.9464665,
          -23.76367169,
          -23.5500133,
          -23.4410792,
          -23.5213958,
          -23.7183375,
          -23.4748681,
          -23.4340555,
          -23.72463144,
          -23.5479522,
          -23.68881587,
          -23.58512978,
          -23.6028665,
          -23.67894536,
          -22.92446432,
          -23.6670853,
          -23.6243921,
          -23.6583241,
          -23.4919714,
          -23.58976067,
          -23.48292159,
          -23.63918423,
          -23.52505764,
          -23.69384027,
          -23.16785173,
          -23.61768044,
          -23.55395255,
          -22.33666145,
          -23.52569122,
          -22.85618626,
          -23.52491019,
          -22.8634117,
          -22.90776272,
          -23.49056563,
          -22.94193032,
          -23.6338272,
          -23.63932285,
          -23.9370103,
          -22.9313841,
          -23.0225298,
          -23.43707388,
          -23.57942026,
          -22.5587364,
          -23.5603039,
          -22.9313841,
          -22.8634117,
          -24.1636108,
          -23.0803141,
          -23.59646464,
          -23.62057987,
          -23.62057987,
          -23.0803141,
          -23.62694843,
          -23.46748457,
          -23.65508558,
          -23.43330625,
          -22.3798271,
          -23.01760194,
          -23.5790748,
          -23.71068766,
          -22.8641934,
          -23.62369354,
          -23.53557595,
          -23.64056864,
          -23.56094209,
          -23.05172803,
          -20.8127115,
          -23.5430159,
          -23.58107221,
          -23.71068766,
          -23.708115,
          -23.4902283,
          -23.6150745,
          -23.73251705,
          -23.6581115,
          -23.5996176,
          -23.73251705,
          -23.53331202,
          -22.90039971,
          -23.56172557,
          -23.4057277,
          -23.552843,
          -23.01760194,
          -22.5709308,
          -22.9199273,
          -23.48683033,
          -23.62917322,
          -21.14311042,
          -23.6997998,
          -21.14311042,
          -23.61099661,
          -23.64173913,
          -23.71006443,
          -23.71006443,
          -22.98686263,
          -23.63969833,
          -22.87738509,
          -23.61227728,
          -23.61227728,
          -23.629583,
          -23.6279636,
          -22.83587667,
          -23.6325274,
          -23.7293975,
          -23.69102424,
          -23.6448085,
          -23.59839914,
          -23.690937,
          -23.7183375,
          -23.97916631,
          -23.7473185,
          -23.55628602,
          -23.6167862,
          -23.650042,
          -22.85179261,
          -23.6849661,
          -23.63028837,
          -23.6554895,
          -22.854904,
          -23.55550082,
          -22.8873233,
          -22.87616555,
          -23.45773723,
          -23.5435308,
          -23.71006443,
          -23.836951,
          -23.4506084,
          -23.62288897,
          -23.54534947,
          -23.65051817,
          -23.43569548,
          -23.60758581,
          -22.554153,
          -23.48778251,
          -23.62620424,
          -22.4573358,
          -22.8812018,
          -23.64448544,
          -22.4332768,
          -23.594273,
          -22.97301166,
          -23.9796284,
          -23.648643,
          -23.4933909,
          -23.5859607
         ],
         "legendgroup": "",
         "lon": [
          -47.00521364,
          -46.65697999,
          -47.8039595,
          -47.2161668,
          -46.97050467,
          -47.1223594,
          -46.64575336,
          -46.52278175,
          -45.5863489,
          -46.4867894,
          -46.30404281,
          -46.2559663,
          -47.75274608,
          -46.6411192,
          -46.6261135,
          -46.82464615,
          -46.63769008,
          -46.4600268,
          -47.30453007,
          -46.51216742,
          -46.48902632,
          -47.38938126,
          -46.59400006,
          -47.0075774,
          -45.78321008,
          -47.72508304,
          -46.6493163,
          -46.85558298,
          -47.14331691,
          -46.3806915,
          -46.7195203,
          -46.3490288,
          -46.561134,
          -46.93517318,
          -47.180643,
          -46.4951506,
          -46.5611179,
          -46.70151785,
          -46.70421864,
          -46.33195569,
          -46.45203814,
          -46.3965107,
          -46.63318607,
          -46.94112903,
          -46.45705639,
          -47.11433253,
          -47.81053689,
          -46.56287187,
          -46.9701821,
          -46.9306466,
          -46.41297178,
          -46.6769073,
          -46.33750184,
          -46.71719739,
          -46.9618777,
          -46.6769073,
          -48.48768611,
          -45.7139763,
          -46.74155776,
          -46.5477109,
          -46.57243069,
          -46.46465021,
          -46.8316348,
          -46.44072969,
          -47.6583156,
          -46.77908209,
          -46.68914745,
          -46.66200226,
          -48.3891174,
          -46.80749568,
          -46.2886733,
          -47.41575994,
          -46.4404268,
          -46.48902632,
          -46.3353904,
          -46.3527155,
          -46.9848946,
          -46.5414366,
          -49.02195576,
          -46.61129888,
          -47.41312417,
          -46.6491492,
          -46.6654295,
          -46.46465021,
          -47.5596215,
          -46.38532323,
          -46.49446864,
          -46.66709177,
          -46.7844691,
          -46.3431046,
          -47.1890959,
          -46.55705261,
          -46.6079389,
          -47.41543932,
          -46.6931886,
          -46.836817,
          -46.48089954,
          -46.64207191,
          -46.67227626,
          -47.0433636,
          -46.4959236,
          -46.36817354,
          -46.6795217,
          -47.0707164,
          -46.7294746,
          -46.58907015,
          -46.21610587,
          -46.77314218,
          -46.61878319,
          -47.02215668,
          -46.7010592,
          -46.83632834,
          -46.78511958,
          -47.12202405,
          -47.14367817,
          -46.9585476,
          -47.0707164,
          -46.5665919,
          -46.42355288,
          -46.82419836,
          -46.3942216,
          -47.5596215,
          -46.61960385,
          -47.4530969,
          -46.69934961,
          -47.22917656,
          -46.41185796,
          -46.58870756,
          -46.62069192,
          -46.55959777,
          -47.0567789,
          -45.7929131,
          -46.78732669,
          -46.4724669,
          -46.7001976,
          -47.02422033,
          -47.7579508,
          -46.4832353,
          -46.833303,
          -47.14784806,
          -46.75311653,
          -46.46188876,
          -46.59736946,
          -46.72999765,
          -46.46975688,
          -46.41883874,
          -46.3982474,
          -47.382813,
          -46.64486597,
          -46.67740259,
          -46.5135579,
          -46.3562831,
          -47.38620237,
          -48.50970305,
          -46.750727,
          -47.2210564,
          -45.8915658,
          -46.4622942,
          -46.3878869,
          -47.12999397,
          -46.6362184,
          -46.6152438,
          -46.67909482,
          -47.2787821,
          -46.7672126,
          -47.41832591,
          -48.0440291,
          -47.4938031,
          -46.7844691,
          -46.425134,
          -45.55082964,
          -46.85513836,
          -47.2238396,
          -46.4145204,
          -47.18166786,
          -46.8219085,
          -45.55082964,
          -46.50503464,
          -46.4832353,
          -47.34333465,
          -46.46116922,
          -46.7692088,
          -47.21399143,
          -46.93736004,
          -46.6809009,
          -46.59602404,
          -47.73368297,
          -47.6461018,
          -46.19333511,
          -46.73664719,
          -47.80652378,
          -46.46224553,
          -46.46735063,
          -46.56834162,
          -47.1890959,
          -49.3831974,
          -46.59763033,
          -47.382813,
          -46.75877473,
          -46.4468324,
          -46.78899023,
          -46.44328406,
          -46.2881472,
          -46.5069164,
          -46.683187,
          -46.7493495,
          -46.7957943,
          -46.4706975,
          -50.86467336,
          -46.45596174,
          -46.4622942,
          -47.4235176,
          -47.21630677,
          -46.5393197,
          -47.40478755,
          -46.74109564,
          -46.87083217,
          -47.2033868,
          -47.2033868,
          -46.9531231,
          -47.4106236,
          -46.7593356,
          -47.4106236,
          -46.7593356,
          -45.46442945,
          -46.87083217,
          -46.69648161,
          -46.5378363,
          -46.8129925,
          -46.796494,
          -47.5071671,
          -46.6362184,
          -45.2003688,
          -46.863198,
          -46.4829902,
          -46.61879999,
          -46.40400115,
          -46.99372137,
          -47.36769294,
          -46.8438153,
          -47.18483357,
          -46.4434493,
          -46.54161678,
          -46.82453071,
          -46.47011821,
          -46.32675634,
          -46.43557677,
          -46.54740694,
          -47.4108508,
          -46.531574,
          -46.6901378,
          -46.56740142,
          -46.61435199,
          -47.15480235,
          -46.5432567,
          -46.74936217,
          -46.8687416,
          -46.4932235,
          -46.38228282,
          -46.78753,
          -46.6236836,
          -47.1890959,
          -46.75255833,
          -46.737644,
          -46.39564221,
          -46.69314322,
          -47.19873014,
          -46.36824186,
          -46.4770846,
          -47.02927775,
          -46.54599703,
          -46.2828228,
          -47.0503388,
          -46.5934582,
          -46.73079429,
          -45.5286388,
          -46.9407749,
          -45.54180661,
          -46.4162608,
          -46.94316836,
          -45.53737089,
          -46.46539575,
          -46.7352042,
          -46.7863614,
          -46.63618852,
          -46.40732523,
          -46.7853479,
          -45.460053,
          -46.5780119,
          -46.78769446,
          -44.5788092,
          -45.52992196,
          -46.3027191,
          -46.34144442,
          -47.0497604,
          -46.46154542,
          -46.7771925,
          -46.35000286,
          -46.4231815,
          -46.7414897,
          -46.56825699,
          -46.36707536,
          -46.5192885,
          -47.1906334,
          -49.98715,
          -46.61752405,
          -47.1537397,
          -46.7509388,
          -46.58938046,
          -47.1914697,
          -48.054513,
          -47.1957714,
          -46.41654866,
          -46.62048512,
          -46.45202742,
          -45.53737089,
          -46.66267035,
          -47.40595542,
          -47.40595542,
          -46.49073699,
          -46.61414429,
          -46.44394387,
          -46.30916941,
          -46.4581823,
          -46.5972228,
          -46.46261289,
          -47.11500385,
          -46.8035234,
          -46.44292561,
          -46.60117962,
          -46.6850328,
          -46.4519342,
          -46.6941502,
          -46.7883709,
          -47.11500385,
          -46.81998801,
          -46.46261289,
          -47.06032099,
          -49.9413381,
          -47.1729793,
          -46.70058971,
          -47.8039934,
          -46.6165182,
          -46.66446341,
          -46.7094138,
          -46.39933111,
          -49.40001525,
          -49.40001525,
          -46.5529659,
          -46.72608593,
          -46.4037169,
          -46.7558253,
          -46.61168966,
          -47.81936828,
          -46.7771925,
          -46.5205726,
          -46.36371535,
          -47.40595542,
          -47.1008642,
          -46.76668318,
          -46.39677608,
          -46.5417627,
          -49.0640999,
          -46.7026813,
          -46.6992195,
          -46.4765285,
          -47.92974341,
          -46.6829073,
          -46.47256634,
          -46.39214653,
          -48.8325883,
          -45.79447966,
          -46.4641539,
          -47.20256605,
          -46.47169698,
          -49.35139904,
          -46.62213032,
          -46.46735063,
          -47.2233187,
          -46.7368161,
          -46.72489757,
          -46.34406225,
          -47.06045897,
          -46.4765285,
          -46.4765285,
          -47.5699784,
          -46.78796967,
          -46.70785147,
          -46.69119021,
          -46.3889146,
          -46.62213032,
          -46.3084468,
          -46.3431046,
          -46.3733966,
          -46.3817544,
          -46.7712221,
          -47.0661904,
          -46.56916999,
          -46.4415278,
          -46.57734922,
          -46.4560712,
          -46.45445838,
          -47.8535548,
          -49.4317181,
          -46.5328559,
          -46.78168427,
          -46.66597708,
          -46.75555102,
          -46.3115828,
          -46.35548177,
          -46.46104873,
          -46.69936864,
          -47.4108508,
          -46.50537346,
          -46.7119979,
          -46.68779577,
          -46.3094694,
          -46.6110271,
          -46.6110271,
          -47.37851838,
          -46.5821263,
          -46.74911754,
          -47.11131965,
          -47.21055139,
          -47.1678922,
          -46.6110271,
          -46.80325564,
          -47.17022321,
          -46.81679286,
          -46.51496815,
          -46.7182357,
          -46.7537394,
          -47.12162941,
          -46.3817544,
          -46.75804432,
          -46.531574,
          -46.69558336,
          -46.7182357,
          -47.1059394,
          -45.54802867,
          -46.7182357,
          -47.1862643,
          -46.59901529,
          -46.8542598,
          -46.6730582,
          -47.20155485,
          -47.47921626,
          -46.5593228,
          -45.54214069,
          -46.60176434,
          -46.513835,
          -47.5029848,
          -46.7182357,
          -46.58196988,
          -47.14204959,
          -46.69483927,
          -46.6146192,
          -46.63033732,
          -46.45714752,
          -47.3596346,
          -46.41089342,
          -46.45714752,
          -47.1815532,
          -46.7320712,
          -47.81936828,
          -47.65571506,
          -46.7254458,
          -46.58800558,
          -46.58846832,
          -47.231231,
          -46.70743967,
          -46.3837007,
          -46.45810238,
          -47.22203634,
          -46.82363952,
          -46.5910574,
          -47.0465553,
          -46.595952,
          -46.6254804,
          -46.65697999,
          -47.0285811,
          -46.701844,
          -46.5788824,
          -46.7598623,
          -46.4665121,
          -46.7844691,
          -46.6084967,
          -47.43802324,
          -46.61245932,
          -46.6497414,
          -46.61474763,
          -46.80130186,
          -46.6308967,
          -46.76398319,
          -47.12403586,
          -46.6121942,
          -46.4718696,
          -47.2113267,
          -46.4008895,
          -46.49604216,
          -46.72053018,
          -46.77872131,
          -46.61830009,
          -46.62303827,
          -46.92739314,
          -46.59373863,
          -46.30338904,
          -48.79228514,
          -46.75548563,
          -47.19690325,
          -46.42886701,
          -47.0234647,
          -47.10020475,
          -46.71152012,
          -46.54354961,
          -46.4533706,
          -46.8542598,
          -47.0638154,
          -47.0911948,
          -45.53102955,
          -46.39972529,
          -46.57243069,
          -47.4036329,
          -46.6860669,
          -47.0911948,
          -47.0234647,
          -46.76109449,
          -47.2097855,
          -46.50038539,
          -46.62770781,
          -46.62770781,
          -47.2097855,
          -46.47011394,
          -46.52901627,
          -46.70158081,
          -46.54338546,
          -46.9465874,
          -45.51790252,
          -46.7196058,
          -46.59909926,
          -47.1754859,
          -46.78799282,
          -46.22229585,
          -46.78209636,
          -46.54332552,
          -45.60166457,
          -49.376521,
          -46.8394648,
          -46.49614023,
          -46.59909926,
          -46.8414625,
          -46.3683921,
          -46.6334901,
          -46.69145808,
          -46.7148019,
          -46.6028305,
          -46.69145808,
          -46.71954445,
          -47.17274026,
          -46.40970526,
          -46.5820172,
          -46.4933723,
          -45.51790252,
          -47.4005533,
          -47.1813086,
          -46.36197297,
          -46.59456788,
          -47.80987686,
          -46.64494937,
          -47.80987686,
          -46.47310573,
          -46.59630379,
          -46.69833978,
          -46.69833978,
          -47.1107344,
          -46.67672637,
          -47.06680238,
          -46.4765285,
          -46.4765285,
          -46.6844935,
          -46.7675793,
          -47.16170995,
          -46.6226127,
          -46.5687987,
          -46.55525504,
          -46.7254458,
          -46.46261289,
          -46.6861253,
          -46.7844691,
          -46.22219388,
          -46.7989762,
          -46.42310167,
          -46.4426654,
          -46.7017383,
          -47.11433253,
          -46.6161262,
          -46.63790809,
          -46.668953,
          -47.0610329,
          -46.56549204,
          -48.444658,
          -47.12202405,
          -46.47090582,
          -46.5406589,
          -46.69833978,
          -46.8229344,
          -46.5445605,
          -46.73768256,
          -46.4624092,
          -46.78376115,
          -46.58504129,
          -46.46740472,
          -47.381102,
          -46.73433108,
          -46.44696867,
          -47.5326963,
          -47.1170532,
          -46.83255683,
          -46.92108735,
          -46.5390073,
          -49.87026141,
          -46.266604,
          -46.7540002,
          -46.4413385,
          -46.75873841
         ],
         "marker": {
          "color": "#636efa",
          "opacity": 0.5
         },
         "mode": "markers",
         "name": "",
         "showlegend": false,
         "subplot": "mapbox",
         "type": "scattermapbox"
        }
       ],
       "layout": {
        "legend": {
         "tracegroupgap": 0
        },
        "mapbox": {
         "center": {
          "lat": -23.283906592816003,
          "lon": -46.793056151792
         },
         "domain": {
          "x": [
           0,
           1
          ],
          "y": [
           0,
           1
          ]
         },
         "style": "open-street-map",
         "zoom": 6.5
        },
        "template": {
         "data": {
          "bar": [
           {
            "error_x": {
             "color": "#2a3f5f"
            },
            "error_y": {
             "color": "#2a3f5f"
            },
            "marker": {
             "line": {
              "color": "#E5ECF6",
              "width": 0.5
             },
             "pattern": {
              "fillmode": "overlay",
              "size": 10,
              "solidity": 0.2
             }
            },
            "type": "bar"
           }
          ],
          "barpolar": [
           {
            "marker": {
             "line": {
              "color": "#E5ECF6",
              "width": 0.5
             },
             "pattern": {
              "fillmode": "overlay",
              "size": 10,
              "solidity": 0.2
             }
            },
            "type": "barpolar"
           }
          ],
          "carpet": [
           {
            "aaxis": {
             "endlinecolor": "#2a3f5f",
             "gridcolor": "white",
             "linecolor": "white",
             "minorgridcolor": "white",
             "startlinecolor": "#2a3f5f"
            },
            "baxis": {
             "endlinecolor": "#2a3f5f",
             "gridcolor": "white",
             "linecolor": "white",
             "minorgridcolor": "white",
             "startlinecolor": "#2a3f5f"
            },
            "type": "carpet"
           }
          ],
          "choropleth": [
           {
            "colorbar": {
             "outlinewidth": 0,
             "ticks": ""
            },
            "type": "choropleth"
           }
          ],
          "contour": [
           {
            "colorbar": {
             "outlinewidth": 0,
             "ticks": ""
            },
            "colorscale": [
             [
              0,
              "#0d0887"
             ],
             [
              0.1111111111111111,
              "#46039f"
             ],
             [
              0.2222222222222222,
              "#7201a8"
             ],
             [
              0.3333333333333333,
              "#9c179e"
             ],
             [
              0.4444444444444444,
              "#bd3786"
             ],
             [
              0.5555555555555556,
              "#d8576b"
             ],
             [
              0.6666666666666666,
              "#ed7953"
             ],
             [
              0.7777777777777778,
              "#fb9f3a"
             ],
             [
              0.8888888888888888,
              "#fdca26"
             ],
             [
              1,
              "#f0f921"
             ]
            ],
            "type": "contour"
           }
          ],
          "contourcarpet": [
           {
            "colorbar": {
             "outlinewidth": 0,
             "ticks": ""
            },
            "type": "contourcarpet"
           }
          ],
          "heatmap": [
           {
            "colorbar": {
             "outlinewidth": 0,
             "ticks": ""
            },
            "colorscale": [
             [
              0,
              "#0d0887"
             ],
             [
              0.1111111111111111,
              "#46039f"
             ],
             [
              0.2222222222222222,
              "#7201a8"
             ],
             [
              0.3333333333333333,
              "#9c179e"
             ],
             [
              0.4444444444444444,
              "#bd3786"
             ],
             [
              0.5555555555555556,
              "#d8576b"
             ],
             [
              0.6666666666666666,
              "#ed7953"
             ],
             [
              0.7777777777777778,
              "#fb9f3a"
             ],
             [
              0.8888888888888888,
              "#fdca26"
             ],
             [
              1,
              "#f0f921"
             ]
            ],
            "type": "heatmap"
           }
          ],
          "heatmapgl": [
           {
            "colorbar": {
             "outlinewidth": 0,
             "ticks": ""
            },
            "colorscale": [
             [
              0,
              "#0d0887"
             ],
             [
              0.1111111111111111,
              "#46039f"
             ],
             [
              0.2222222222222222,
              "#7201a8"
             ],
             [
              0.3333333333333333,
              "#9c179e"
             ],
             [
              0.4444444444444444,
              "#bd3786"
             ],
             [
              0.5555555555555556,
              "#d8576b"
             ],
             [
              0.6666666666666666,
              "#ed7953"
             ],
             [
              0.7777777777777778,
              "#fb9f3a"
             ],
             [
              0.8888888888888888,
              "#fdca26"
             ],
             [
              1,
              "#f0f921"
             ]
            ],
            "type": "heatmapgl"
           }
          ],
          "histogram": [
           {
            "marker": {
             "pattern": {
              "fillmode": "overlay",
              "size": 10,
              "solidity": 0.2
             }
            },
            "type": "histogram"
           }
          ],
          "histogram2d": [
           {
            "colorbar": {
             "outlinewidth": 0,
             "ticks": ""
            },
            "colorscale": [
             [
              0,
              "#0d0887"
             ],
             [
              0.1111111111111111,
              "#46039f"
             ],
             [
              0.2222222222222222,
              "#7201a8"
             ],
             [
              0.3333333333333333,
              "#9c179e"
             ],
             [
              0.4444444444444444,
              "#bd3786"
             ],
             [
              0.5555555555555556,
              "#d8576b"
             ],
             [
              0.6666666666666666,
              "#ed7953"
             ],
             [
              0.7777777777777778,
              "#fb9f3a"
             ],
             [
              0.8888888888888888,
              "#fdca26"
             ],
             [
              1,
              "#f0f921"
             ]
            ],
            "type": "histogram2d"
           }
          ],
          "histogram2dcontour": [
           {
            "colorbar": {
             "outlinewidth": 0,
             "ticks": ""
            },
            "colorscale": [
             [
              0,
              "#0d0887"
             ],
             [
              0.1111111111111111,
              "#46039f"
             ],
             [
              0.2222222222222222,
              "#7201a8"
             ],
             [
              0.3333333333333333,
              "#9c179e"
             ],
             [
              0.4444444444444444,
              "#bd3786"
             ],
             [
              0.5555555555555556,
              "#d8576b"
             ],
             [
              0.6666666666666666,
              "#ed7953"
             ],
             [
              0.7777777777777778,
              "#fb9f3a"
             ],
             [
              0.8888888888888888,
              "#fdca26"
             ],
             [
              1,
              "#f0f921"
             ]
            ],
            "type": "histogram2dcontour"
           }
          ],
          "mesh3d": [
           {
            "colorbar": {
             "outlinewidth": 0,
             "ticks": ""
            },
            "type": "mesh3d"
           }
          ],
          "parcoords": [
           {
            "line": {
             "colorbar": {
              "outlinewidth": 0,
              "ticks": ""
             }
            },
            "type": "parcoords"
           }
          ],
          "pie": [
           {
            "automargin": true,
            "type": "pie"
           }
          ],
          "scatter": [
           {
            "fillpattern": {
             "fillmode": "overlay",
             "size": 10,
             "solidity": 0.2
            },
            "type": "scatter"
           }
          ],
          "scatter3d": [
           {
            "line": {
             "colorbar": {
              "outlinewidth": 0,
              "ticks": ""
             }
            },
            "marker": {
             "colorbar": {
              "outlinewidth": 0,
              "ticks": ""
             }
            },
            "type": "scatter3d"
           }
          ],
          "scattercarpet": [
           {
            "marker": {
             "colorbar": {
              "outlinewidth": 0,
              "ticks": ""
             }
            },
            "type": "scattercarpet"
           }
          ],
          "scattergeo": [
           {
            "marker": {
             "colorbar": {
              "outlinewidth": 0,
              "ticks": ""
             }
            },
            "type": "scattergeo"
           }
          ],
          "scattergl": [
           {
            "marker": {
             "colorbar": {
              "outlinewidth": 0,
              "ticks": ""
             }
            },
            "type": "scattergl"
           }
          ],
          "scattermapbox": [
           {
            "marker": {
             "colorbar": {
              "outlinewidth": 0,
              "ticks": ""
             }
            },
            "type": "scattermapbox"
           }
          ],
          "scatterpolar": [
           {
            "marker": {
             "colorbar": {
              "outlinewidth": 0,
              "ticks": ""
             }
            },
            "type": "scatterpolar"
           }
          ],
          "scatterpolargl": [
           {
            "marker": {
             "colorbar": {
              "outlinewidth": 0,
              "ticks": ""
             }
            },
            "type": "scatterpolargl"
           }
          ],
          "scatterternary": [
           {
            "marker": {
             "colorbar": {
              "outlinewidth": 0,
              "ticks": ""
             }
            },
            "type": "scatterternary"
           }
          ],
          "surface": [
           {
            "colorbar": {
             "outlinewidth": 0,
             "ticks": ""
            },
            "colorscale": [
             [
              0,
              "#0d0887"
             ],
             [
              0.1111111111111111,
              "#46039f"
             ],
             [
              0.2222222222222222,
              "#7201a8"
             ],
             [
              0.3333333333333333,
              "#9c179e"
             ],
             [
              0.4444444444444444,
              "#bd3786"
             ],
             [
              0.5555555555555556,
              "#d8576b"
             ],
             [
              0.6666666666666666,
              "#ed7953"
             ],
             [
              0.7777777777777778,
              "#fb9f3a"
             ],
             [
              0.8888888888888888,
              "#fdca26"
             ],
             [
              1,
              "#f0f921"
             ]
            ],
            "type": "surface"
           }
          ],
          "table": [
           {
            "cells": {
             "fill": {
              "color": "#EBF0F8"
             },
             "line": {
              "color": "white"
             }
            },
            "header": {
             "fill": {
              "color": "#C8D4E3"
             },
             "line": {
              "color": "white"
             }
            },
            "type": "table"
           }
          ]
         },
         "layout": {
          "annotationdefaults": {
           "arrowcolor": "#2a3f5f",
           "arrowhead": 0,
           "arrowwidth": 1
          },
          "autotypenumbers": "strict",
          "coloraxis": {
           "colorbar": {
            "outlinewidth": 0,
            "ticks": ""
           }
          },
          "colorscale": {
           "diverging": [
            [
             0,
             "#8e0152"
            ],
            [
             0.1,
             "#c51b7d"
            ],
            [
             0.2,
             "#de77ae"
            ],
            [
             0.3,
             "#f1b6da"
            ],
            [
             0.4,
             "#fde0ef"
            ],
            [
             0.5,
             "#f7f7f7"
            ],
            [
             0.6,
             "#e6f5d0"
            ],
            [
             0.7,
             "#b8e186"
            ],
            [
             0.8,
             "#7fbc41"
            ],
            [
             0.9,
             "#4d9221"
            ],
            [
             1,
             "#276419"
            ]
           ],
           "sequential": [
            [
             0,
             "#0d0887"
            ],
            [
             0.1111111111111111,
             "#46039f"
            ],
            [
             0.2222222222222222,
             "#7201a8"
            ],
            [
             0.3333333333333333,
             "#9c179e"
            ],
            [
             0.4444444444444444,
             "#bd3786"
            ],
            [
             0.5555555555555556,
             "#d8576b"
            ],
            [
             0.6666666666666666,
             "#ed7953"
            ],
            [
             0.7777777777777778,
             "#fb9f3a"
            ],
            [
             0.8888888888888888,
             "#fdca26"
            ],
            [
             1,
             "#f0f921"
            ]
           ],
           "sequentialminus": [
            [
             0,
             "#0d0887"
            ],
            [
             0.1111111111111111,
             "#46039f"
            ],
            [
             0.2222222222222222,
             "#7201a8"
            ],
            [
             0.3333333333333333,
             "#9c179e"
            ],
            [
             0.4444444444444444,
             "#bd3786"
            ],
            [
             0.5555555555555556,
             "#d8576b"
            ],
            [
             0.6666666666666666,
             "#ed7953"
            ],
            [
             0.7777777777777778,
             "#fb9f3a"
            ],
            [
             0.8888888888888888,
             "#fdca26"
            ],
            [
             1,
             "#f0f921"
            ]
           ]
          },
          "colorway": [
           "#636efa",
           "#EF553B",
           "#00cc96",
           "#ab63fa",
           "#FFA15A",
           "#19d3f3",
           "#FF6692",
           "#B6E880",
           "#FF97FF",
           "#FECB52"
          ],
          "font": {
           "color": "#2a3f5f"
          },
          "geo": {
           "bgcolor": "white",
           "lakecolor": "white",
           "landcolor": "#E5ECF6",
           "showlakes": true,
           "showland": true,
           "subunitcolor": "white"
          },
          "hoverlabel": {
           "align": "left"
          },
          "hovermode": "closest",
          "mapbox": {
           "style": "light"
          },
          "paper_bgcolor": "white",
          "plot_bgcolor": "#E5ECF6",
          "polar": {
           "angularaxis": {
            "gridcolor": "white",
            "linecolor": "white",
            "ticks": ""
           },
           "bgcolor": "#E5ECF6",
           "radialaxis": {
            "gridcolor": "white",
            "linecolor": "white",
            "ticks": ""
           }
          },
          "scene": {
           "xaxis": {
            "backgroundcolor": "#E5ECF6",
            "gridcolor": "white",
            "gridwidth": 2,
            "linecolor": "white",
            "showbackground": true,
            "ticks": "",
            "zerolinecolor": "white"
           },
           "yaxis": {
            "backgroundcolor": "#E5ECF6",
            "gridcolor": "white",
            "gridwidth": 2,
            "linecolor": "white",
            "showbackground": true,
            "ticks": "",
            "zerolinecolor": "white"
           },
           "zaxis": {
            "backgroundcolor": "#E5ECF6",
            "gridcolor": "white",
            "gridwidth": 2,
            "linecolor": "white",
            "showbackground": true,
            "ticks": "",
            "zerolinecolor": "white"
           }
          },
          "shapedefaults": {
           "line": {
            "color": "#2a3f5f"
           }
          },
          "ternary": {
           "aaxis": {
            "gridcolor": "white",
            "linecolor": "white",
            "ticks": ""
           },
           "baxis": {
            "gridcolor": "white",
            "linecolor": "white",
            "ticks": ""
           },
           "bgcolor": "#E5ECF6",
           "caxis": {
            "gridcolor": "white",
            "linecolor": "white",
            "ticks": ""
           }
          },
          "title": {
           "x": 0.05
          },
          "xaxis": {
           "automargin": true,
           "gridcolor": "white",
           "linecolor": "white",
           "ticks": "",
           "title": {
            "standoff": 15
           },
           "zerolinecolor": "white",
           "zerolinewidth": 2
          },
          "yaxis": {
           "automargin": true,
           "gridcolor": "white",
           "linecolor": "white",
           "ticks": "",
           "title": {
            "standoff": 15
           },
           "zerolinecolor": "white",
           "zerolinewidth": 2
          }
         }
        },
        "title": {
         "text": "Mapa de Dispersão de Roubos de Veículos em São Paulo"
        }
       }
      },
      "text/html": [
       "<div>                            <div id=\"8f2b0657-99c8-46f6-b517-d30f0ec6a9b7\" class=\"plotly-graph-div\" style=\"height:525px; width:100%;\"></div>            <script type=\"text/javascript\">                require([\"plotly\"], function(Plotly) {                    window.PLOTLYENV=window.PLOTLYENV || {};                                    if (document.getElementById(\"8f2b0657-99c8-46f6-b517-d30f0ec6a9b7\")) {                    Plotly.newPlot(                        \"8f2b0657-99c8-46f6-b517-d30f0ec6a9b7\",                        [{\"hovertemplate\":\"LATITUDE=%{lat}<br>LONGITUDE=%{lon}<extra></extra>\",\"lat\":[-23.16723043,-23.6939197,-21.1312773,-22.856393,-23.64421392,-22.9935889,-23.67105327,-23.68872108,-23.0873599,-23.62699174,-23.62831257,-23.4390587,-23.17194706,-23.6078298,-23.71609482,-23.34145937,-23.61743616,-23.55661,-22.8838155,-23.63708533,-23.64842027,-22.5696826,-23.57568312,-23.1485612,-23.15125353,-21.20091333,-23.697009,-23.2386949,-22.7603585,-23.5522789,-23.8394854,-23.5542417,-23.5808331,-23.17231473,-22.9041718,-23.41486864,-23.6237643,-23.51982506,-23.45566277,-23.46943239,-23.43443201,-23.6367677,-23.57291477,-22.37150407,-23.65843232,-22.85179261,-21.16856029,-23.68119487,-24.2792448,-23.1720738,-23.55499647,-23.62574489,-23.64299497,-23.57529151,-23.149897,-23.62574489,-21.33561329,-23.1063165,-23.44656947,-23.5452686,-23.57942026,-23.43598097,-23.52101526,-23.59557886,-22.7475736,-23.48745554,-23.71211816,-23.68042007,-21.5985992,-23.78029728,-23.9543679,-22.55925766,-23.5968258,-23.64842027,-23.4066103,-23.7697585,-22.7042274,-23.67720671,-22.32242242,-23.71120376,-22.55986398,-23.5564814,-23.4761265,-23.43598097,-22.4107652,-23.44006794,-23.45905163,-23.63923783,-23.7183375,-23.4676565,-22.8527108,-23.71334885,-23.6630289,-22.5815082,-23.7373761,-23.0154732,-23.55467816,-23.62644263,-24.11594692,-22.9375405,-23.7057508,-23.51380075,-23.6664717,-22.8442006,-23.8274298,-23.66530837,-23.53901585,-23.72301904,-23.72159612,-22.86037287,-23.5708209,-23.52672613,-23.6207857,-22.87616555,-22.96956089,-24.2680688,-22.8442006,-23.1246558,-23.61929531,-23.55403853,-23.5341211,-22.4107652,-23.73043185,-23.5179577,-23.71434208,-22.85313471,-23.49906971,-23.7128426,-23.72084144,-23.5421768,-22.9401605,-23.1950115,-23.44612788,-23.5716038,-23.57206983,-22.87226166,-21.14957268,-23.58719816,-22.4226006,-22.97890416,-23.64888562,-23.61493125,-23.63578169,-23.49708704,-23.56838882,-23.44684181,-23.1822675,-22.3840702,-23.65309721,-23.6827418,-23.6498466,-23.47841829,-22.17370378,-20.93617641,-23.6032706,-22.8573469,-23.2198396,-23.5637829,-23.9500142,-22.97181733,-23.6218429,-23.7257869,-23.5144337,-21.704184,-23.490536,-22.59958715,-20.7098383,-23.46737,-23.7183375,-23.5330555,-23.01412415,-23.70352022,-22.8711399,-23.4485243,-22.91049648,-23.7508386,-23.01412415,-23.45376877,-23.58719816,-22.74710535,-23.55577117,-23.4855749,-22.79611469,-23.15051294,-23.7417842,-23.66523626,-21.20141972,-22.7255789,-23.97711172,-23.63154398,-21.16440989,-23.61945806,-23.62781608,-23.49881455,-22.8527108,-20.8323584,-23.59111488,-22.3840702,-23.85473071,-23.5485768,-23.75568017,-23.57835332,-23.4445097,-23.7029336,-23.53470291,-23.4423171,-23.51555985,-23.5015369,-21.79566868,-23.4944734,-23.5637829,-22.5851998,-22.89158011,-23.5784943,-22.58252899,-23.58648454,-23.12253706,-22.7808569,-22.7808569,-22.33416,-20.490021,-23.5928205,-20.490021,-23.5928205,-22.94331709,-23.12253706,-23.68801062,-23.58616017,-23.7181871,-23.721524,-23.9632471,-23.6218429,-22.7818175,-23.21075415,-23.4712465,-23.5711599,-23.57845501,-23.61260177,-22.56688902,-23.7508336,-22.65197396,-23.5986493,-23.68967271,-23.68821381,-23.52073991,-23.46495687,-23.59662856,-23.48440552,-22.5756379,-23.6313658,-23.70293,-23.68336317,-23.58180779,-22.7599149,-23.7454601,-23.65501603,-23.5945163,-23.993142,-23.49792855,-23.4287218,-23.6926888,-22.8527108,-24.16129309,-23.5759729,-23.59687639,-23.73393107,-22.87723585,-23.49306495,-23.9749008,-22.93206697,-23.67883924,-23.4822332,-22.9037938,-23.6065338,-23.49345778,-23.0012906,-23.1240399,-23.00164306,-23.5770671,-23.13800856,-23.00845081,-23.46683916,-23.4867835,-23.7322973,-23.4651246,-23.46921521,-23.6406765,-22.9279223,-23.4209452,-23.7244727,-22.6437421,-23.02414836,-23.5387157,-23.40881665,-23.14796421,-23.62000731,-23.745199,-23.50437727,-23.6710078,-23.5221314,-23.59382992,-23.5396195,-23.6208236,-22.719874,-20.4107701,-23.54018553,-22.7775695,-23.3658429,-23.5881021,-22.8474628,-23.5823851,-22.818841,-23.94741523,-23.35054663,-23.41202446,-23.00845081,-23.63835069,-20.56977614,-20.56977614,-23.58197304,-23.7063257,-23.6281403,-23.38678285,-23.915291,-23.7597972,-23.59839914,-22.93735223,-23.7318138,-23.61267925,-23.74262743,-23.7009007,-23.5531258,-23.74481641,-23.7045344,-22.93735223,-23.56026436,-23.59839914,-22.91136829,-22.256863,-22.8830636,-23.55985665,-21.15009073,-23.4795112,-23.52182099,-23.6735242,-23.46099387,-20.80750952,-20.80750952,-23.5451066,-23.62273127,-23.5912379,-23.5660566,-23.52623091,-21.26594422,-23.745199,-23.5963703,-23.48873373,-20.56977614,-22.9246334,-23.64265942,-23.49590482,-23.7374429,-22.3396039,-23.3152674,-23.3095355,-23.61227728,-20.20969323,-23.7846115,-23.44808293,-23.50015022,-21.7556838,-23.18543728,-23.6085715,-22.85907551,-23.61233178,-20.77167553,-23.70368916,-23.62781608,-22.8114744,-23.6322158,-23.47240113,-23.46830956,-22.91054581,-23.61227728,-23.61227728,-23.5123396,-23.52191132,-23.65210444,-23.74918703,-23.4215376,-23.70368916,-23.5355779,-23.4676565,-23.4931879,-23.5048477,-23.6186461,-22.851338,-23.43225885,-23.5985857,-23.62937401,-23.5377536,-23.53653305,-23.3545384,-20.7613568,-23.4596858,-23.67006897,-23.60555387,-23.48170517,-23.4030327,-23.46731684,-23.55118884,-23.67578851,-22.5756379,-23.59463631,-23.6457497,-23.72401538,-23.5869893,-23.6023117,-23.6023117,-22.19800691,-23.5178261,-23.45988456,-22.98498465,-22.84786118,-22.77325459,-23.6023117,-23.64011499,-22.84592029,-23.61915638,-23.56629286,-23.5727103,-23.2831775,-22.93790553,-23.5048477,-23.60938808,-23.6313658,-23.73863714,-23.5727103,-22.98429842,-22.97494544,-23.5727103,-22.7912287,-23.60857923,-23.63932285,-23.5153129,-22.82815344,-22.5730212,-23.5098599,-23.00082134,-23.64977397,-23.6994478,-23.005643,-23.5727103,-23.6320991,-23.06243226,-23.59283412,-23.6572109,-23.60581941,-23.51792003,-22.3791177,-23.39038568,-23.51792003,-22.8513637,-23.6442222,-21.26594422,-22.72173506,-23.6448085,-23.55548924,-23.6183226,-22.8835111,-23.85374027,-23.5197137,-23.4923808,-22.8589767,-23.55253866,-23.5818919,-22.8777955,-23.6568445,-23.6742954,-23.6939197,-22.9464665,-23.76367169,-23.5500133,-23.4410792,-23.5213958,-23.7183375,-23.4748681,-23.4340555,-23.72463144,-23.5479522,-23.68881587,-23.58512978,-23.6028665,-23.67894536,-22.92446432,-23.6670853,-23.6243921,-23.6583241,-23.4919714,-23.58976067,-23.48292159,-23.63918423,-23.52505764,-23.69384027,-23.16785173,-23.61768044,-23.55395255,-22.33666145,-23.52569122,-22.85618626,-23.52491019,-22.8634117,-22.90776272,-23.49056563,-22.94193032,-23.6338272,-23.63932285,-23.9370103,-22.9313841,-23.0225298,-23.43707388,-23.57942026,-22.5587364,-23.5603039,-22.9313841,-22.8634117,-24.1636108,-23.0803141,-23.59646464,-23.62057987,-23.62057987,-23.0803141,-23.62694843,-23.46748457,-23.65508558,-23.43330625,-22.3798271,-23.01760194,-23.5790748,-23.71068766,-22.8641934,-23.62369354,-23.53557595,-23.64056864,-23.56094209,-23.05172803,-20.8127115,-23.5430159,-23.58107221,-23.71068766,-23.708115,-23.4902283,-23.6150745,-23.73251705,-23.6581115,-23.5996176,-23.73251705,-23.53331202,-22.90039971,-23.56172557,-23.4057277,-23.552843,-23.01760194,-22.5709308,-22.9199273,-23.48683033,-23.62917322,-21.14311042,-23.6997998,-21.14311042,-23.61099661,-23.64173913,-23.71006443,-23.71006443,-22.98686263,-23.63969833,-22.87738509,-23.61227728,-23.61227728,-23.629583,-23.6279636,-22.83587667,-23.6325274,-23.7293975,-23.69102424,-23.6448085,-23.59839914,-23.690937,-23.7183375,-23.97916631,-23.7473185,-23.55628602,-23.6167862,-23.650042,-22.85179261,-23.6849661,-23.63028837,-23.6554895,-22.854904,-23.55550082,-22.8873233,-22.87616555,-23.45773723,-23.5435308,-23.71006443,-23.836951,-23.4506084,-23.62288897,-23.54534947,-23.65051817,-23.43569548,-23.60758581,-22.554153,-23.48778251,-23.62620424,-22.4573358,-22.8812018,-23.64448544,-22.4332768,-23.594273,-22.97301166,-23.9796284,-23.648643,-23.4933909,-23.5859607],\"legendgroup\":\"\",\"lon\":[-47.00521364,-46.65697999,-47.8039595,-47.2161668,-46.97050467,-47.1223594,-46.64575336,-46.52278175,-45.5863489,-46.4867894,-46.30404281,-46.2559663,-47.75274608,-46.6411192,-46.6261135,-46.82464615,-46.63769008,-46.4600268,-47.30453007,-46.51216742,-46.48902632,-47.38938126,-46.59400006,-47.0075774,-45.78321008,-47.72508304,-46.6493163,-46.85558298,-47.14331691,-46.3806915,-46.7195203,-46.3490288,-46.561134,-46.93517318,-47.180643,-46.4951506,-46.5611179,-46.70151785,-46.70421864,-46.33195569,-46.45203814,-46.3965107,-46.63318607,-46.94112903,-46.45705639,-47.11433253,-47.81053689,-46.56287187,-46.9701821,-46.9306466,-46.41297178,-46.6769073,-46.33750184,-46.71719739,-46.9618777,-46.6769073,-48.48768611,-45.7139763,-46.74155776,-46.5477109,-46.57243069,-46.46465021,-46.8316348,-46.44072969,-47.6583156,-46.77908209,-46.68914745,-46.66200226,-48.3891174,-46.80749568,-46.2886733,-47.41575994,-46.4404268,-46.48902632,-46.3353904,-46.3527155,-46.9848946,-46.5414366,-49.02195576,-46.61129888,-47.41312417,-46.6491492,-46.6654295,-46.46465021,-47.5596215,-46.38532323,-46.49446864,-46.66709177,-46.7844691,-46.3431046,-47.1890959,-46.55705261,-46.6079389,-47.41543932,-46.6931886,-46.836817,-46.48089954,-46.64207191,-46.67227626,-47.0433636,-46.4959236,-46.36817354,-46.6795217,-47.0707164,-46.7294746,-46.58907015,-46.21610587,-46.77314218,-46.61878319,-47.02215668,-46.7010592,-46.83632834,-46.78511958,-47.12202405,-47.14367817,-46.9585476,-47.0707164,-46.5665919,-46.42355288,-46.82419836,-46.3942216,-47.5596215,-46.61960385,-47.4530969,-46.69934961,-47.22917656,-46.41185796,-46.58870756,-46.62069192,-46.55959777,-47.0567789,-45.7929131,-46.78732669,-46.4724669,-46.7001976,-47.02422033,-47.7579508,-46.4832353,-46.833303,-47.14784806,-46.75311653,-46.46188876,-46.59736946,-46.72999765,-46.46975688,-46.41883874,-46.3982474,-47.382813,-46.64486597,-46.67740259,-46.5135579,-46.3562831,-47.38620237,-48.50970305,-46.750727,-47.2210564,-45.8915658,-46.4622942,-46.3878869,-47.12999397,-46.6362184,-46.6152438,-46.67909482,-47.2787821,-46.7672126,-47.41832591,-48.0440291,-47.4938031,-46.7844691,-46.425134,-45.55082964,-46.85513836,-47.2238396,-46.4145204,-47.18166786,-46.8219085,-45.55082964,-46.50503464,-46.4832353,-47.34333465,-46.46116922,-46.7692088,-47.21399143,-46.93736004,-46.6809009,-46.59602404,-47.73368297,-47.6461018,-46.19333511,-46.73664719,-47.80652378,-46.46224553,-46.46735063,-46.56834162,-47.1890959,-49.3831974,-46.59763033,-47.382813,-46.75877473,-46.4468324,-46.78899023,-46.44328406,-46.2881472,-46.5069164,-46.683187,-46.7493495,-46.7957943,-46.4706975,-50.86467336,-46.45596174,-46.4622942,-47.4235176,-47.21630677,-46.5393197,-47.40478755,-46.74109564,-46.87083217,-47.2033868,-47.2033868,-46.9531231,-47.4106236,-46.7593356,-47.4106236,-46.7593356,-45.46442945,-46.87083217,-46.69648161,-46.5378363,-46.8129925,-46.796494,-47.5071671,-46.6362184,-45.2003688,-46.863198,-46.4829902,-46.61879999,-46.40400115,-46.99372137,-47.36769294,-46.8438153,-47.18483357,-46.4434493,-46.54161678,-46.82453071,-46.47011821,-46.32675634,-46.43557677,-46.54740694,-47.4108508,-46.531574,-46.6901378,-46.56740142,-46.61435199,-47.15480235,-46.5432567,-46.74936217,-46.8687416,-46.4932235,-46.38228282,-46.78753,-46.6236836,-47.1890959,-46.75255833,-46.737644,-46.39564221,-46.69314322,-47.19873014,-46.36824186,-46.4770846,-47.02927775,-46.54599703,-46.2828228,-47.0503388,-46.5934582,-46.73079429,-45.5286388,-46.9407749,-45.54180661,-46.4162608,-46.94316836,-45.53737089,-46.46539575,-46.7352042,-46.7863614,-46.63618852,-46.40732523,-46.7853479,-45.460053,-46.5780119,-46.78769446,-44.5788092,-45.52992196,-46.3027191,-46.34144442,-47.0497604,-46.46154542,-46.7771925,-46.35000286,-46.4231815,-46.7414897,-46.56825699,-46.36707536,-46.5192885,-47.1906334,-49.98715,-46.61752405,-47.1537397,-46.7509388,-46.58938046,-47.1914697,-48.054513,-47.1957714,-46.41654866,-46.62048512,-46.45202742,-45.53737089,-46.66267035,-47.40595542,-47.40595542,-46.49073699,-46.61414429,-46.44394387,-46.30916941,-46.4581823,-46.5972228,-46.46261289,-47.11500385,-46.8035234,-46.44292561,-46.60117962,-46.6850328,-46.4519342,-46.6941502,-46.7883709,-47.11500385,-46.81998801,-46.46261289,-47.06032099,-49.9413381,-47.1729793,-46.70058971,-47.8039934,-46.6165182,-46.66446341,-46.7094138,-46.39933111,-49.40001525,-49.40001525,-46.5529659,-46.72608593,-46.4037169,-46.7558253,-46.61168966,-47.81936828,-46.7771925,-46.5205726,-46.36371535,-47.40595542,-47.1008642,-46.76668318,-46.39677608,-46.5417627,-49.0640999,-46.7026813,-46.6992195,-46.4765285,-47.92974341,-46.6829073,-46.47256634,-46.39214653,-48.8325883,-45.79447966,-46.4641539,-47.20256605,-46.47169698,-49.35139904,-46.62213032,-46.46735063,-47.2233187,-46.7368161,-46.72489757,-46.34406225,-47.06045897,-46.4765285,-46.4765285,-47.5699784,-46.78796967,-46.70785147,-46.69119021,-46.3889146,-46.62213032,-46.3084468,-46.3431046,-46.3733966,-46.3817544,-46.7712221,-47.0661904,-46.56916999,-46.4415278,-46.57734922,-46.4560712,-46.45445838,-47.8535548,-49.4317181,-46.5328559,-46.78168427,-46.66597708,-46.75555102,-46.3115828,-46.35548177,-46.46104873,-46.69936864,-47.4108508,-46.50537346,-46.7119979,-46.68779577,-46.3094694,-46.6110271,-46.6110271,-47.37851838,-46.5821263,-46.74911754,-47.11131965,-47.21055139,-47.1678922,-46.6110271,-46.80325564,-47.17022321,-46.81679286,-46.51496815,-46.7182357,-46.7537394,-47.12162941,-46.3817544,-46.75804432,-46.531574,-46.69558336,-46.7182357,-47.1059394,-45.54802867,-46.7182357,-47.1862643,-46.59901529,-46.8542598,-46.6730582,-47.20155485,-47.47921626,-46.5593228,-45.54214069,-46.60176434,-46.513835,-47.5029848,-46.7182357,-46.58196988,-47.14204959,-46.69483927,-46.6146192,-46.63033732,-46.45714752,-47.3596346,-46.41089342,-46.45714752,-47.1815532,-46.7320712,-47.81936828,-47.65571506,-46.7254458,-46.58800558,-46.58846832,-47.231231,-46.70743967,-46.3837007,-46.45810238,-47.22203634,-46.82363952,-46.5910574,-47.0465553,-46.595952,-46.6254804,-46.65697999,-47.0285811,-46.701844,-46.5788824,-46.7598623,-46.4665121,-46.7844691,-46.6084967,-47.43802324,-46.61245932,-46.6497414,-46.61474763,-46.80130186,-46.6308967,-46.76398319,-47.12403586,-46.6121942,-46.4718696,-47.2113267,-46.4008895,-46.49604216,-46.72053018,-46.77872131,-46.61830009,-46.62303827,-46.92739314,-46.59373863,-46.30338904,-48.79228514,-46.75548563,-47.19690325,-46.42886701,-47.0234647,-47.10020475,-46.71152012,-46.54354961,-46.4533706,-46.8542598,-47.0638154,-47.0911948,-45.53102955,-46.39972529,-46.57243069,-47.4036329,-46.6860669,-47.0911948,-47.0234647,-46.76109449,-47.2097855,-46.50038539,-46.62770781,-46.62770781,-47.2097855,-46.47011394,-46.52901627,-46.70158081,-46.54338546,-46.9465874,-45.51790252,-46.7196058,-46.59909926,-47.1754859,-46.78799282,-46.22229585,-46.78209636,-46.54332552,-45.60166457,-49.376521,-46.8394648,-46.49614023,-46.59909926,-46.8414625,-46.3683921,-46.6334901,-46.69145808,-46.7148019,-46.6028305,-46.69145808,-46.71954445,-47.17274026,-46.40970526,-46.5820172,-46.4933723,-45.51790252,-47.4005533,-47.1813086,-46.36197297,-46.59456788,-47.80987686,-46.64494937,-47.80987686,-46.47310573,-46.59630379,-46.69833978,-46.69833978,-47.1107344,-46.67672637,-47.06680238,-46.4765285,-46.4765285,-46.6844935,-46.7675793,-47.16170995,-46.6226127,-46.5687987,-46.55525504,-46.7254458,-46.46261289,-46.6861253,-46.7844691,-46.22219388,-46.7989762,-46.42310167,-46.4426654,-46.7017383,-47.11433253,-46.6161262,-46.63790809,-46.668953,-47.0610329,-46.56549204,-48.444658,-47.12202405,-46.47090582,-46.5406589,-46.69833978,-46.8229344,-46.5445605,-46.73768256,-46.4624092,-46.78376115,-46.58504129,-46.46740472,-47.381102,-46.73433108,-46.44696867,-47.5326963,-47.1170532,-46.83255683,-46.92108735,-46.5390073,-49.87026141,-46.266604,-46.7540002,-46.4413385,-46.75873841],\"marker\":{\"color\":\"#636efa\",\"opacity\":0.5},\"mode\":\"markers\",\"name\":\"\",\"showlegend\":false,\"subplot\":\"mapbox\",\"type\":\"scattermapbox\"}],                        {\"template\":{\"data\":{\"histogram2dcontour\":[{\"type\":\"histogram2dcontour\",\"colorbar\":{\"outlinewidth\":0,\"ticks\":\"\"},\"colorscale\":[[0.0,\"#0d0887\"],[0.1111111111111111,\"#46039f\"],[0.2222222222222222,\"#7201a8\"],[0.3333333333333333,\"#9c179e\"],[0.4444444444444444,\"#bd3786\"],[0.5555555555555556,\"#d8576b\"],[0.6666666666666666,\"#ed7953\"],[0.7777777777777778,\"#fb9f3a\"],[0.8888888888888888,\"#fdca26\"],[1.0,\"#f0f921\"]]}],\"choropleth\":[{\"type\":\"choropleth\",\"colorbar\":{\"outlinewidth\":0,\"ticks\":\"\"}}],\"histogram2d\":[{\"type\":\"histogram2d\",\"colorbar\":{\"outlinewidth\":0,\"ticks\":\"\"},\"colorscale\":[[0.0,\"#0d0887\"],[0.1111111111111111,\"#46039f\"],[0.2222222222222222,\"#7201a8\"],[0.3333333333333333,\"#9c179e\"],[0.4444444444444444,\"#bd3786\"],[0.5555555555555556,\"#d8576b\"],[0.6666666666666666,\"#ed7953\"],[0.7777777777777778,\"#fb9f3a\"],[0.8888888888888888,\"#fdca26\"],[1.0,\"#f0f921\"]]}],\"heatmap\":[{\"type\":\"heatmap\",\"colorbar\":{\"outlinewidth\":0,\"ticks\":\"\"},\"colorscale\":[[0.0,\"#0d0887\"],[0.1111111111111111,\"#46039f\"],[0.2222222222222222,\"#7201a8\"],[0.3333333333333333,\"#9c179e\"],[0.4444444444444444,\"#bd3786\"],[0.5555555555555556,\"#d8576b\"],[0.6666666666666666,\"#ed7953\"],[0.7777777777777778,\"#fb9f3a\"],[0.8888888888888888,\"#fdca26\"],[1.0,\"#f0f921\"]]}],\"heatmapgl\":[{\"type\":\"heatmapgl\",\"colorbar\":{\"outlinewidth\":0,\"ticks\":\"\"},\"colorscale\":[[0.0,\"#0d0887\"],[0.1111111111111111,\"#46039f\"],[0.2222222222222222,\"#7201a8\"],[0.3333333333333333,\"#9c179e\"],[0.4444444444444444,\"#bd3786\"],[0.5555555555555556,\"#d8576b\"],[0.6666666666666666,\"#ed7953\"],[0.7777777777777778,\"#fb9f3a\"],[0.8888888888888888,\"#fdca26\"],[1.0,\"#f0f921\"]]}],\"contourcarpet\":[{\"type\":\"contourcarpet\",\"colorbar\":{\"outlinewidth\":0,\"ticks\":\"\"}}],\"contour\":[{\"type\":\"contour\",\"colorbar\":{\"outlinewidth\":0,\"ticks\":\"\"},\"colorscale\":[[0.0,\"#0d0887\"],[0.1111111111111111,\"#46039f\"],[0.2222222222222222,\"#7201a8\"],[0.3333333333333333,\"#9c179e\"],[0.4444444444444444,\"#bd3786\"],[0.5555555555555556,\"#d8576b\"],[0.6666666666666666,\"#ed7953\"],[0.7777777777777778,\"#fb9f3a\"],[0.8888888888888888,\"#fdca26\"],[1.0,\"#f0f921\"]]}],\"surface\":[{\"type\":\"surface\",\"colorbar\":{\"outlinewidth\":0,\"ticks\":\"\"},\"colorscale\":[[0.0,\"#0d0887\"],[0.1111111111111111,\"#46039f\"],[0.2222222222222222,\"#7201a8\"],[0.3333333333333333,\"#9c179e\"],[0.4444444444444444,\"#bd3786\"],[0.5555555555555556,\"#d8576b\"],[0.6666666666666666,\"#ed7953\"],[0.7777777777777778,\"#fb9f3a\"],[0.8888888888888888,\"#fdca26\"],[1.0,\"#f0f921\"]]}],\"mesh3d\":[{\"type\":\"mesh3d\",\"colorbar\":{\"outlinewidth\":0,\"ticks\":\"\"}}],\"scatter\":[{\"fillpattern\":{\"fillmode\":\"overlay\",\"size\":10,\"solidity\":0.2},\"type\":\"scatter\"}],\"parcoords\":[{\"type\":\"parcoords\",\"line\":{\"colorbar\":{\"outlinewidth\":0,\"ticks\":\"\"}}}],\"scatterpolargl\":[{\"type\":\"scatterpolargl\",\"marker\":{\"colorbar\":{\"outlinewidth\":0,\"ticks\":\"\"}}}],\"bar\":[{\"error_x\":{\"color\":\"#2a3f5f\"},\"error_y\":{\"color\":\"#2a3f5f\"},\"marker\":{\"line\":{\"color\":\"#E5ECF6\",\"width\":0.5},\"pattern\":{\"fillmode\":\"overlay\",\"size\":10,\"solidity\":0.2}},\"type\":\"bar\"}],\"scattergeo\":[{\"type\":\"scattergeo\",\"marker\":{\"colorbar\":{\"outlinewidth\":0,\"ticks\":\"\"}}}],\"scatterpolar\":[{\"type\":\"scatterpolar\",\"marker\":{\"colorbar\":{\"outlinewidth\":0,\"ticks\":\"\"}}}],\"histogram\":[{\"marker\":{\"pattern\":{\"fillmode\":\"overlay\",\"size\":10,\"solidity\":0.2}},\"type\":\"histogram\"}],\"scattergl\":[{\"type\":\"scattergl\",\"marker\":{\"colorbar\":{\"outlinewidth\":0,\"ticks\":\"\"}}}],\"scatter3d\":[{\"type\":\"scatter3d\",\"line\":{\"colorbar\":{\"outlinewidth\":0,\"ticks\":\"\"}},\"marker\":{\"colorbar\":{\"outlinewidth\":0,\"ticks\":\"\"}}}],\"scattermapbox\":[{\"type\":\"scattermapbox\",\"marker\":{\"colorbar\":{\"outlinewidth\":0,\"ticks\":\"\"}}}],\"scatterternary\":[{\"type\":\"scatterternary\",\"marker\":{\"colorbar\":{\"outlinewidth\":0,\"ticks\":\"\"}}}],\"scattercarpet\":[{\"type\":\"scattercarpet\",\"marker\":{\"colorbar\":{\"outlinewidth\":0,\"ticks\":\"\"}}}],\"carpet\":[{\"aaxis\":{\"endlinecolor\":\"#2a3f5f\",\"gridcolor\":\"white\",\"linecolor\":\"white\",\"minorgridcolor\":\"white\",\"startlinecolor\":\"#2a3f5f\"},\"baxis\":{\"endlinecolor\":\"#2a3f5f\",\"gridcolor\":\"white\",\"linecolor\":\"white\",\"minorgridcolor\":\"white\",\"startlinecolor\":\"#2a3f5f\"},\"type\":\"carpet\"}],\"table\":[{\"cells\":{\"fill\":{\"color\":\"#EBF0F8\"},\"line\":{\"color\":\"white\"}},\"header\":{\"fill\":{\"color\":\"#C8D4E3\"},\"line\":{\"color\":\"white\"}},\"type\":\"table\"}],\"barpolar\":[{\"marker\":{\"line\":{\"color\":\"#E5ECF6\",\"width\":0.5},\"pattern\":{\"fillmode\":\"overlay\",\"size\":10,\"solidity\":0.2}},\"type\":\"barpolar\"}],\"pie\":[{\"automargin\":true,\"type\":\"pie\"}]},\"layout\":{\"autotypenumbers\":\"strict\",\"colorway\":[\"#636efa\",\"#EF553B\",\"#00cc96\",\"#ab63fa\",\"#FFA15A\",\"#19d3f3\",\"#FF6692\",\"#B6E880\",\"#FF97FF\",\"#FECB52\"],\"font\":{\"color\":\"#2a3f5f\"},\"hovermode\":\"closest\",\"hoverlabel\":{\"align\":\"left\"},\"paper_bgcolor\":\"white\",\"plot_bgcolor\":\"#E5ECF6\",\"polar\":{\"bgcolor\":\"#E5ECF6\",\"angularaxis\":{\"gridcolor\":\"white\",\"linecolor\":\"white\",\"ticks\":\"\"},\"radialaxis\":{\"gridcolor\":\"white\",\"linecolor\":\"white\",\"ticks\":\"\"}},\"ternary\":{\"bgcolor\":\"#E5ECF6\",\"aaxis\":{\"gridcolor\":\"white\",\"linecolor\":\"white\",\"ticks\":\"\"},\"baxis\":{\"gridcolor\":\"white\",\"linecolor\":\"white\",\"ticks\":\"\"},\"caxis\":{\"gridcolor\":\"white\",\"linecolor\":\"white\",\"ticks\":\"\"}},\"coloraxis\":{\"colorbar\":{\"outlinewidth\":0,\"ticks\":\"\"}},\"colorscale\":{\"sequential\":[[0.0,\"#0d0887\"],[0.1111111111111111,\"#46039f\"],[0.2222222222222222,\"#7201a8\"],[0.3333333333333333,\"#9c179e\"],[0.4444444444444444,\"#bd3786\"],[0.5555555555555556,\"#d8576b\"],[0.6666666666666666,\"#ed7953\"],[0.7777777777777778,\"#fb9f3a\"],[0.8888888888888888,\"#fdca26\"],[1.0,\"#f0f921\"]],\"sequentialminus\":[[0.0,\"#0d0887\"],[0.1111111111111111,\"#46039f\"],[0.2222222222222222,\"#7201a8\"],[0.3333333333333333,\"#9c179e\"],[0.4444444444444444,\"#bd3786\"],[0.5555555555555556,\"#d8576b\"],[0.6666666666666666,\"#ed7953\"],[0.7777777777777778,\"#fb9f3a\"],[0.8888888888888888,\"#fdca26\"],[1.0,\"#f0f921\"]],\"diverging\":[[0,\"#8e0152\"],[0.1,\"#c51b7d\"],[0.2,\"#de77ae\"],[0.3,\"#f1b6da\"],[0.4,\"#fde0ef\"],[0.5,\"#f7f7f7\"],[0.6,\"#e6f5d0\"],[0.7,\"#b8e186\"],[0.8,\"#7fbc41\"],[0.9,\"#4d9221\"],[1,\"#276419\"]]},\"xaxis\":{\"gridcolor\":\"white\",\"linecolor\":\"white\",\"ticks\":\"\",\"title\":{\"standoff\":15},\"zerolinecolor\":\"white\",\"automargin\":true,\"zerolinewidth\":2},\"yaxis\":{\"gridcolor\":\"white\",\"linecolor\":\"white\",\"ticks\":\"\",\"title\":{\"standoff\":15},\"zerolinecolor\":\"white\",\"automargin\":true,\"zerolinewidth\":2},\"scene\":{\"xaxis\":{\"backgroundcolor\":\"#E5ECF6\",\"gridcolor\":\"white\",\"linecolor\":\"white\",\"showbackground\":true,\"ticks\":\"\",\"zerolinecolor\":\"white\",\"gridwidth\":2},\"yaxis\":{\"backgroundcolor\":\"#E5ECF6\",\"gridcolor\":\"white\",\"linecolor\":\"white\",\"showbackground\":true,\"ticks\":\"\",\"zerolinecolor\":\"white\",\"gridwidth\":2},\"zaxis\":{\"backgroundcolor\":\"#E5ECF6\",\"gridcolor\":\"white\",\"linecolor\":\"white\",\"showbackground\":true,\"ticks\":\"\",\"zerolinecolor\":\"white\",\"gridwidth\":2}},\"shapedefaults\":{\"line\":{\"color\":\"#2a3f5f\"}},\"annotationdefaults\":{\"arrowcolor\":\"#2a3f5f\",\"arrowhead\":0,\"arrowwidth\":1},\"geo\":{\"bgcolor\":\"white\",\"landcolor\":\"#E5ECF6\",\"subunitcolor\":\"white\",\"showland\":true,\"showlakes\":true,\"lakecolor\":\"white\"},\"title\":{\"x\":0.05},\"mapbox\":{\"style\":\"light\"}}},\"mapbox\":{\"domain\":{\"x\":[0.0,1.0],\"y\":[0.0,1.0]},\"center\":{\"lat\":-23.283906592816003,\"lon\":-46.793056151792},\"zoom\":6.5,\"style\":\"open-street-map\"},\"legend\":{\"tracegroupgap\":0},\"title\":{\"text\":\"Mapa de Dispers\\u00e3o de Roubos de Ve\\u00edculos em S\\u00e3o Paulo\"}},                        {\"responsive\": true}                    ).then(function(){\n",
       "                            \n",
       "var gd = document.getElementById('8f2b0657-99c8-46f6-b517-d30f0ec6a9b7');\n",
       "var x = new MutationObserver(function (mutations, observer) {{\n",
       "        var display = window.getComputedStyle(gd).display;\n",
       "        if (!display || display === 'none') {{\n",
       "            console.log([gd, 'removed!']);\n",
       "            Plotly.purge(gd);\n",
       "            observer.disconnect();\n",
       "        }}\n",
       "}});\n",
       "\n",
       "// Listen for the removal of the full notebook cells\n",
       "var notebookContainer = gd.closest('#notebook-container');\n",
       "if (notebookContainer) {{\n",
       "    x.observe(notebookContainer, {childList: true});\n",
       "}}\n",
       "\n",
       "// Listen for the clearing of the current output cell\n",
       "var outputEl = gd.closest('.output');\n",
       "if (outputEl) {{\n",
       "    x.observe(outputEl, {childList: true});\n",
       "}}\n",
       "\n",
       "                        })                };                });            </script>        </div>"
      ]
     },
     "metadata": {},
     "output_type": "display_data"
    }
   ],
   "source": [
    "df[\"LATITUDE\"] = df[\"LATITUDE\"].str.replace(\",\", \".\").astype(float)\n",
    "df[\"LONGITUDE\"] = df[\"LONGITUDE\"].str.replace(\",\", \".\").astype(float)\n",
    "\n",
    "fig = px.scatter_mapbox(df.dropna(),\n",
    "                        lat='LATITUDE',\n",
    "                        lon='LONGITUDE',\n",
    "                        mapbox_style='open-street-map',\n",
    "                        title='Mapa de Dispersão de Roubos de Veículos em São Paulo',\n",
    "                        opacity=0.5) \n",
    "\n",
    "fig.update_layout(mapbox_zoom=6.5)\n",
    "fig.show()"
   ]
  },
  {
   "cell_type": "markdown",
   "id": "adf87c16",
   "metadata": {},
   "source": [
    "A representação visual da densidade dos roubos em um mapa oferece uma visão clara da distribuição geográfica desses eventos. Essa visualização pode ser uma ferramenta valiosa para identificar áreas de maior concentração de roubos de veículos, auxiliando na alocação estratégica de recursos de segurança e na implementação de medidas preventivas direcionadas."
   ]
  },
  {
   "cell_type": "code",
   "execution_count": 91,
   "id": "9d59d7a0",
   "metadata": {},
   "outputs": [],
   "source": [
    "df.to_csv('dados_tratados.csv', index=False)"
   ]
  },
  {
   "cell_type": "code",
   "execution_count": null,
   "id": "c1febbe7",
   "metadata": {},
   "outputs": [],
   "source": []
  }
 ],
 "metadata": {
  "kernelspec": {
   "display_name": "Python 3 (ipykernel)",
   "language": "python",
   "name": "python3"
  },
  "language_info": {
   "codemirror_mode": {
    "name": "ipython",
    "version": 3
   },
   "file_extension": ".py",
   "mimetype": "text/x-python",
   "name": "python",
   "nbconvert_exporter": "python",
   "pygments_lexer": "ipython3",
   "version": "3.11.4"
  }
 },
 "nbformat": 4,
 "nbformat_minor": 5
}
